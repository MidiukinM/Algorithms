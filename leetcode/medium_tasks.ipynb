{
 "cells": [
  {
   "cell_type": "markdown",
   "id": "fundamental-sentence",
   "metadata": {},
   "source": [
    "### 1029. Two city scheduling\n",
    "\n",
    "A company is planning to interview `2n` people. Given the array `costs` where $costs[i] = [aCost_i, bCost_i]$, the cost of flying the `i-th` person to city `a` is $aCost_i$, and the cost of flying the `i-th` person to city `b` is $bCost_i$. \n",
    "\n",
    "Return the minimum cost to fly every person to a city such that exactly `n` people arrive in each city. \n",
    "\n",
    "\n",
    "_Example:_\n",
    "\n",
    "costs: `[[10, 20], [30, 200], [400, 50], [30, 300]]`  \n",
    "output: `20 + 30 + 50 + 30 = 130`; 2nd and 4th goes to city a and 1st and 3d goes to city b\n",
    "\n",
    "**Greedy solution**"
   ]
  },
  {
   "cell_type": "code",
   "execution_count": 1,
   "id": "aquatic-tunisia",
   "metadata": {},
   "outputs": [],
   "source": [
    "def two_city_sched_cost(costs):\n",
    "    diffs = []\n",
    "    for c1, c2 in costs:\n",
    "        diffs.append([c2 - c1, c1, c2])\n",
    "    diffs.sort()\n",
    "    res = 0\n",
    "    for i in range(len(diffs)):\n",
    "        if i < len(diffs) // 2:\n",
    "            res += diffs[i][2]\n",
    "        else:\n",
    "            res += diffs[i][1]\n",
    "    return res    "
   ]
  },
  {
   "cell_type": "code",
   "execution_count": 27,
   "id": "speaking-newark",
   "metadata": {},
   "outputs": [
    {
     "data": {
      "text/plain": [
       "130"
      ]
     },
     "execution_count": 27,
     "metadata": {},
     "output_type": "execute_result"
    }
   ],
   "source": [
    "two_city_sched_cost([[10, 20], [30, 200], [400, 50], [30, 300]])"
   ]
  },
  {
   "cell_type": "markdown",
   "id": "nervous-chester",
   "metadata": {},
   "source": [
    "### 881. Boats to Save People\n",
    "\n",
    "You are given an array `people` where `people[i]` is the weight of the `i-th` person, and an infinite number of boats where each bot can carry a maximum weight of `limit`. Each boat carries at most two people at the same time, provided the sum of the weight of those people is at most `limit`. \n",
    "\n",
    "Return the minimum number of boats to carry every given person"
   ]
  },
  {
   "cell_type": "code",
   "execution_count": 25,
   "id": "changing-house",
   "metadata": {},
   "outputs": [],
   "source": [
    "def boats(people, limit):\n",
    "    people.sort()\n",
    "    \n",
    "    start = 0\n",
    "    end = len(people) - 1\n",
    "    \n",
    "    if end < 0:\n",
    "        return 0\n",
    "    \n",
    "    if people[end] > limit:\n",
    "        return 'noway'\n",
    "\n",
    "    boats = 0\n",
    "    while start <= end:\n",
    "        if (people[start] + people[end]) > limit:\n",
    "            boats += 1\n",
    "            end -= 1\n",
    "        else:\n",
    "            boats += 1\n",
    "            end -= 1 \n",
    "            start += 1\n",
    "    return boats "
   ]
  },
  {
   "cell_type": "code",
   "execution_count": 26,
   "id": "looking-glass",
   "metadata": {},
   "outputs": [
    {
     "data": {
      "text/plain": [
       "3"
      ]
     },
     "execution_count": 26,
     "metadata": {},
     "output_type": "execute_result"
    }
   ],
   "source": [
    "boats([1, 1, 2, 3], limit=3)"
   ]
  },
  {
   "cell_type": "markdown",
   "id": "stopped-corrections",
   "metadata": {},
   "source": [
    "### 94. Binary Tree Inorder Traversal\n",
    "\n",
    "Given the `root` of a binary tree, return the inorder traversal of its nodes values\n",
    "\n",
    "_Example:_\n",
    "\n",
    "input: [1, null, 2, 3]  \n",
    "output: [1, 3, 2]"
   ]
  },
  {
   "cell_type": "markdown",
   "id": "brown-station",
   "metadata": {},
   "source": [
    "**recursive solution**  \n",
    "\n",
    "time: $O(n)$  \n",
    "memory: $O(n)$"
   ]
  },
  {
   "cell_type": "code",
   "execution_count": 5,
   "id": "incomplete-membership",
   "metadata": {},
   "outputs": [],
   "source": [
    "class TreeNode:\n",
    "    def __init__(self, val=0, left=None, right=None):\n",
    "        self.val = val\n",
    "        self.left = left\n",
    "        self.right = right\n",
    "\n",
    "class Solution:\n",
    "    def inorder_traversal(self, root: TreeNode) -> list[int]:\n",
    "        res = []\n",
    "\n",
    "        def inorder(root):\n",
    "            if not root:\n",
    "                return\n",
    "            inorder(root.left)\n",
    "            res.append(root.val)\n",
    "            inorder(root.right)\n",
    "            \n",
    "        inorder(root)\n",
    "        return res "
   ]
  },
  {
   "cell_type": "markdown",
   "id": "operating-causing",
   "metadata": {},
   "source": [
    "**iterative solution**\n",
    "\n",
    "time: $O(h)$  \n",
    "memory: $O(n)$"
   ]
  },
  {
   "cell_type": "code",
   "execution_count": null,
   "id": "retired-concern",
   "metadata": {},
   "outputs": [],
   "source": [
    "class TreeNode:\n",
    "    def __init__(self, val=0, left=None, right=None):\n",
    "        self.val = val\n",
    "        self.left = left\n",
    "        self.right = right\n",
    "\n",
    "class Solution:\n",
    "    def inorder_traversal(self, root: TreeNode) -> list[int]:\n",
    "        res = []\n",
    "        stack = []\n",
    "        pointer = root\n",
    "        while pointer or stack:\n",
    "            while pointer:\n",
    "                stack.append(pointer)\n",
    "                pointer = pointer.left\n",
    "            pointer = stack.pop()\n",
    "            res.append(pointer.val)\n",
    "            pointer = pointer.right\n",
    "        return res"
   ]
  },
  {
   "cell_type": "markdown",
   "id": "classical-triple",
   "metadata": {},
   "source": [
    "### 173. Binary Search Tree Iterator\n",
    "\n",
    "Implement the `BSTIterator` class that represents an iterator over the in-order traversal of a binary search tree (BTS):\n",
    "* `BSTIterator(TreeNode root)` initializes an object of the `BSTIterator` class. The `root` of the BST is given as part of constructor. The pointer should be initialized to a non-existent number smaller than any element in the BST.\n",
    "* `boolean has_next()` returns `true` if there exists a number in the traversal to the right of the pointer, otherwise returns `false`.\n",
    "* `int next()` moves the pointer to the right, then returns the number at the pointer\n",
    "\n",
    "Notice that by initializing the pointer to a non-existent smallest number, the first call to `next()` will return the smallest element in the BST\n",
    "\n",
    "You mas assume that `next()` calls will always be valid. That is, there will be at least a next number in the in-order traversal when `next()` is called"
   ]
  },
  {
   "cell_type": "code",
   "execution_count": null,
   "id": "regulated-reducing",
   "metadata": {},
   "outputs": [],
   "source": [
    " class BSTIterator:\n",
    "        \n",
    "        def __init__(self, root: TreeNode):\n",
    "            self.stack = []\n",
    "            while root:\n",
    "                self.stack.append(root)\n",
    "                root = root.left\n",
    "            \n",
    "        def next(self) -> int:\n",
    "            res = self.stack.pop()\n",
    "            cur = res.right\n",
    "            while cur:\n",
    "                self.stack.append(cur)\n",
    "                cur = cur.left\n",
    "            return res.val\n",
    "            \n",
    "        def hasNext(self) -> bool:\n",
    "            return self.stack != []\n",
    "            "
   ]
  },
  {
   "cell_type": "markdown",
   "id": "designing-israeli",
   "metadata": {},
   "source": [
    "### 934. Shortest Bridge\n",
    "\n",
    "You are given an `n x n` binary matrix `grid` where `1` represents land and `0` represents water.\n",
    "\n",
    "An island is a 4-directionally connected group of `1`'s not connected to any other `1`'s. There are exactly two islands in `grid`. \n",
    "\n",
    "You may change `0`'s to `1`'s to connect the two islands to form one island.\n",
    "\n",
    "Return the smallest number of `0`'s you must flip to connect the two islands\n",
    "\n",
    "time: $O(n)$  \n",
    "memory: $O(n)$"
   ]
  },
  {
   "cell_type": "code",
   "execution_count": null,
   "id": "smaller-kidney",
   "metadata": {},
   "outputs": [],
   "source": [
    "def shortest_bridge(grid):\n",
    "    N = len(grid)\n",
    "    direct = [[0, 1], [0, -1], [1, 0], [-1, 0]]\n",
    "    \n",
    "    def infalid(r, c):\n",
    "        return r < 0 or c < 0 or r == N or c == N\n",
    "    \n",
    "    visit = set()\n",
    "    # просматриваем все вершины вокруг исходной поиском в глубину\n",
    "    def dfs(r, c):\n",
    "        if (invalid(r,c) or not grid[r][c] or (r, c) in visit):\n",
    "            return \n",
    "        visit.add((r, c))\n",
    "        for dr, dc in direct:\n",
    "            dfs(r + dr, c + dc)\n",
    "            \n",
    "    def bfs():\n",
    "        res, q = 0, deque(visit)\n",
    "        while q:\n",
    "            for i in range(len(q)):\n",
    "                r, c = q.popleft()\n",
    "                for dr, dc in direct:\n",
    "                    curR, curC = r + dr, c + dc\n",
    "                    if invalid(curR, curC) or (curR, curC) in visit:\n",
    "                        continue\n",
    "                    if grid[curR][curC]:\n",
    "                        return res \n",
    "                    q.append([curR, curC])\n",
    "                    visit.add((curR, curC))\n",
    "            res += 1\n",
    "            \n",
    "        for r in range(N):\n",
    "            for c in range(N):\n",
    "                if grid[r][c]:\n",
    "                    dfs(r, c)\n",
    "                    return bfc()"
   ]
  },
  {
   "cell_type": "markdown",
   "id": "likely-species",
   "metadata": {},
   "source": [
    "### 895. Maximum Frequency Stack\n",
    "\n",
    "Design a stack-like data structure to push elements to the stack and pop the most frequent element from the stack \n",
    "\n",
    "Implement the `FreqStack` class: \n",
    "* `FreqStack()` constructs an empty frequency stack\n",
    "* `void push(int val)` pushes an integer `val` onto the top of the stack \n",
    "* `int pop()` **removes and returns the most frequent element** in the stack. If there is a tie for the most frequent element, the element closest to the stacks top is removed and returned "
   ]
  },
  {
   "cell_type": "code",
   "execution_count": null,
   "id": "nonprofit-substance",
   "metadata": {},
   "outputs": [],
   "source": [
    "class FreqStack:\n",
    "    \n",
    "    def __init__(self):\n",
    "        self.cnt = {}\n",
    "        self.maxCnt = 0\n",
    "        self.stacks = {}\n",
    "        \n",
    "    def push(self, val: int) -> None:\n",
    "        valCnt = 1 + self.cnt.get(val, 0)\n",
    "        self.cnt[val] = valCnt\n",
    "        if valCnt > self.maxCnt:\n",
    "            self.maxCnt = valCnt\n",
    "            self.stacks[valCnt] = []\n",
    "        self.stacks[valCnt].append(val)\n",
    "        \n",
    "    def pop(self) -> int:\n",
    "        res = self.stacks[self.maxCnt].pop()\n",
    "        self.cnt[res] -= 1\n",
    "        if not self.stacks[self.maxCnt]:\n",
    "            self.maxCnt -= 1\n",
    "        return res "
   ]
  },
  {
   "cell_type": "markdown",
   "id": "sought-clearing",
   "metadata": {},
   "source": [
    "### Insert Delete GetRandom O(1)\n",
    "\n",
    "Implement the `RandomizeSet` class:\n",
    "* `RandomizedSet()` initializes the `RandomizedSet` object\n",
    "* `bool insert(int val)` inserts an item `val` into the set if not present. Returns `true` if the item was not present, `false` otherwise\n",
    "* `int getRandom()` returns a random element from the current set of elements (its guaranteed that at least one element exists when this method is called). Each element must have the same probability of being returned\n",
    "\n",
    "You must implement the functions of the class such that each function works in average `O(1)` time complexity"
   ]
  },
  {
   "cell_type": "markdown",
   "id": "flying-australian",
   "metadata": {},
   "source": [
    "Мы не можем обойтись только Hashset потому что нам нужно тянуть случайный элемент, а это значит нам нужно тянуть индекс, а в Hashset элементы неупорядочены, поэтому нам в любом случае понадобится список. Удаление из списка по умолчанию происходит за O(n), но если мы будем хранить индексы элементов в HashMap, то тогда получится удалять за O(1). Мы удаляем элемент, на его место ставим последний, а потом удаляем последний. В итоге все операции за O(1)"
   ]
  },
  {
   "cell_type": "code",
   "execution_count": null,
   "id": "subtle-individual",
   "metadata": {},
   "outputs": [],
   "source": [
    "import random\n",
    "\n",
    "class RandomizeSet:\n",
    "    \n",
    "    def __init__(self):\n",
    "        self.numMap = {}\n",
    "        self.numList = []\n",
    "        \n",
    "    def insert(self, val: int) -> bool:\n",
    "        res = val not in self.numMap\n",
    "        if res:\n",
    "            self.numMap[val] = len(self.numList)\n",
    "            self.numList.append(val)\n",
    "        return res \n",
    "    \n",
    "    def remove(self, val: int) -> bool:\n",
    "        res = val in self.numMap\n",
    "        if res:\n",
    "            idx = self.numMap[val]\n",
    "            lastVal = self.numList[-1]\n",
    "            self.numList[idx] = lastVal\n",
    "            self.numList.pop()\n",
    "            self.numMap[lastVal] = idx\n",
    "            del self.numMap[val]\n",
    "        return res \n",
    "    \n",
    "    def getRandom(self) -> int:\n",
    "        return random.choice(self.numList)"
   ]
  },
  {
   "cell_type": "markdown",
   "id": "written-outdoors",
   "metadata": {},
   "source": [
    "### 187. Repeated DNA Sequences\n",
    "\n",
    "The DNA sequence is composed of a series of nucleotides abbreviated as `'A'`, `'C'`, `'G'`, `'T'`. For example, `\"ACGAATTCCG\"` is a DNA sequence. \n",
    "\n",
    "When studying DNA, it is useful to identify repeated sequences within the DNA. \n",
    "\n",
    "Given a string `s` that represents a DNA sequence, return all the `10`-letter-long sequences (substrings) that occur more than once in a DNA molecule. You may return the answer in any order."
   ]
  },
  {
   "cell_type": "markdown",
   "id": "domestic-treasurer",
   "metadata": {},
   "source": [
    "Идем окном в 10 элементов. Добавляем последовательность в Hashset. Если наткнулись на последовательность, которая уже есть в Hashset, то тогда добавляем ее в res. \n",
    "\n",
    "Замечание: строка занимает 8 бит. Получается что для каждой подпоследовательности мы имеем 80 бит памяти. Можно 4 символаа конвертнуть в последовательность из нулей и единиц:  \n",
    "A: 00  \n",
    "C: 10  \n",
    "G: 01  \n",
    "T: 11  \n",
    "Тогда займем всего 2 бита на одну букву и 20 бит на подпоследовательность из 10 символов"
   ]
  },
  {
   "cell_type": "code",
   "execution_count": null,
   "id": "possible-contract",
   "metadata": {},
   "outputs": [],
   "source": [
    "def dna_sequence(s):\n",
    "    seen, res = set(), set()\n",
    "    \n",
    "    for l in range(len(s) - 9):\n",
    "        cur = s[l:l+10]\n",
    "        if cur in seen:\n",
    "            res.add(cur)\n",
    "        seen.add(cur)\n",
    "    return list(res)"
   ]
  },
  {
   "cell_type": "markdown",
   "id": "fewer-vitamin",
   "metadata": {},
   "source": [
    "### 838. Push Dominoes\n",
    "\n",
    "There are `n` dominoes in a line, and we place each domino vertically upright. In the beginning, we simultaneously push some of the dominoes either to the left or to the right.\n",
    "\n",
    "After each second, each domino that is falling to the left pushes the adjacent domino on the left. Similarly, the dominoes falling to the right push their adjacent dominoes standing on the right.\n",
    "\n",
    "When a vertical domino has dominoes falling on it from both sides, it stays still due to the balance of the forces.\n",
    "\n",
    "For the purposes of this question, we will consider that a falling domino expends no additional force to a falling or already fallen domino.\n",
    "\n",
    "You are given a string `dominoes` representing the initial state where:\n",
    "\n",
    "* `dominoes[i] = 'L'`, if the `i-th` domino has been pushed to the left,\n",
    "* `dominoes[i] = 'R'`, if the `i-th` domino has been pushed to the right, and\n",
    "* `dominoes[i] = '.'`, if the `i-th` domino has not been pushed.\n",
    "Return a string representing the final state."
   ]
  },
  {
   "cell_type": "code",
   "execution_count": null,
   "id": "indoor-davis",
   "metadata": {},
   "outputs": [],
   "source": [
    "from collections import deque\n",
    "\n",
    "def push_dominoes(dominoes):\n",
    "    dom = list(dominoes)\n",
    "    q = deque()\n",
    "    \n",
    "    for i, d in enumerate(dom):\n",
    "        if d != '.': q.append((i, d))\n",
    "    \n",
    "    while q:\n",
    "        i, d = q.popleft()\n",
    "        \n",
    "        if d == 'L' and i > 0 and dom[i - 1] == '.':\n",
    "            q.append((i - 1, 'L'))\n",
    "            dom[i - 1] = 'L'\n",
    "        elif d == 'R':\n",
    "            if i + 1 < len(dom) and dom[i + 1] == '.':\n",
    "                if i + 2 < len(dom) and dom[i + 2] == 'L':\n",
    "                    q.popleft() \n",
    "                else:\n",
    "                    q.append((i + 1, 'R'))\n",
    "                    dom[i + 1] = 'R'\n",
    "    return ''.join(dom)"
   ]
  },
  {
   "cell_type": "markdown",
   "id": "promotional-class",
   "metadata": {},
   "source": [
    "### 523. Continuous Subarray Sum\n",
    "\n",
    "Given an integer array `nums` and an integer `k`, return `true` if nums has a continuous subarray of size **at least two** whose elements sum up to a multiple of `k`, or `false` otherwise.\n",
    "\n",
    "An integer `x` is a multiple of `k` if there exists an integer `n` such that `x = n * k`. `0` is always a multiple of `k`.\n",
    "\n",
    "**solution with the prefix sum**"
   ]
  },
  {
   "cell_type": "code",
   "execution_count": 9,
   "id": "controversial-cylinder",
   "metadata": {},
   "outputs": [],
   "source": [
    "def cont_subarray_sum(nums, k):\n",
    "    summa = 0\n",
    "    remainders = {0: -1}\n",
    "    for i, el in enumerate(nums):\n",
    "        summa += el \n",
    "        r = summa % k\n",
    "        if r not in remainders:\n",
    "            remainders[r] = i\n",
    "        elif i - remainders[r] > 1:\n",
    "            return True \n",
    "    return False "
   ]
  },
  {
   "cell_type": "markdown",
   "id": "centered-gather",
   "metadata": {},
   "source": [
    "### 1288. Remove Covered Intervals\n",
    "\n",
    "Given an array `intervals` where `intervals[i] = [l_i, r_i]` represent the interval `[l_i, r_i)`, remove all intervals that are covered by another interval in the list.\n",
    "\n",
    "The interval `[a, b)` is covered by the interval `[c, d)` if and only if `c <= a` and `b <= d`.\n",
    "\n",
    "Return the number of remaining intervals."
   ]
  },
  {
   "cell_type": "code",
   "execution_count": 28,
   "id": "political-curve",
   "metadata": {},
   "outputs": [],
   "source": [
    "def covered_intervals(intervals):\n",
    "    intervals.sort(key=lambda i: (i[0], -i[1]))\n",
    "    \n",
    "    res = [intervals[0]]\n",
    "    for i in range(1, len(intervals)):\n",
    "        if intervals[i][1] >= res[-1][1]:\n",
    "            res.append(intervals[i])\n",
    "    return res "
   ]
  },
  {
   "cell_type": "markdown",
   "id": "usual-paint",
   "metadata": {},
   "source": [
    "### 1405. Longest Happy String\n",
    "A string `s` is called happy if it satisfies the following conditions:\n",
    "\n",
    "* `s` only contains the letters `'a'`, `'b'`, and `'c'`.\n",
    "* `s` does not contain any of `\"aaa\"`, `\"bbb\"`, or `\"ccc\"` as a substring.\n",
    "* `s` contains at most `a` occurrences of the letter `'a'`.\n",
    "* `s` contains at most `b` occurrences of the letter `'b'`.\n",
    "* `s` contains at most `c` occurrences of the letter `'c'`.\n",
    "\n",
    "Given three integers `a`, `b`, and `c`, return the longest possible happy string. If there are multiple longest happy strings, return any of them. If there is no such string, return the empty string `\"\"`.\n",
    "\n",
    "A substring is a contiguous sequence of characters within a string."
   ]
  },
  {
   "cell_type": "code",
   "execution_count": null,
   "id": "finite-manchester",
   "metadata": {},
   "outputs": [],
   "source": []
  },
  {
   "cell_type": "markdown",
   "id": "ranking-spring",
   "metadata": {},
   "source": []
  },
  {
   "cell_type": "code",
   "execution_count": null,
   "id": "stone-association",
   "metadata": {},
   "outputs": [],
   "source": []
  },
  {
   "cell_type": "code",
   "execution_count": null,
   "id": "unknown-integration",
   "metadata": {},
   "outputs": [],
   "source": []
  },
  {
   "cell_type": "code",
   "execution_count": null,
   "id": "essential-stable",
   "metadata": {},
   "outputs": [],
   "source": []
  },
  {
   "cell_type": "code",
   "execution_count": null,
   "id": "dying-block",
   "metadata": {},
   "outputs": [],
   "source": []
  },
  {
   "cell_type": "code",
   "execution_count": null,
   "id": "heard-latino",
   "metadata": {},
   "outputs": [],
   "source": []
  }
 ],
 "metadata": {
  "kernelspec": {
   "display_name": "Python 3",
   "language": "python",
   "name": "python3"
  },
  "language_info": {
   "codemirror_mode": {
    "name": "ipython",
    "version": 3
   },
   "file_extension": ".py",
   "mimetype": "text/x-python",
   "name": "python",
   "nbconvert_exporter": "python",
   "pygments_lexer": "ipython3",
   "version": "3.9.2"
  },
  "varInspector": {
   "cols": {
    "lenName": 16,
    "lenType": 16,
    "lenVar": 40
   },
   "kernels_config": {
    "python": {
     "delete_cmd_postfix": "",
     "delete_cmd_prefix": "del ",
     "library": "var_list.py",
     "varRefreshCmd": "print(var_dic_list())"
    },
    "r": {
     "delete_cmd_postfix": ") ",
     "delete_cmd_prefix": "rm(",
     "library": "var_list.r",
     "varRefreshCmd": "cat(var_dic_list()) "
    }
   },
   "types_to_exclude": [
    "module",
    "function",
    "builtin_function_or_method",
    "instance",
    "_Feature"
   ],
   "window_display": false
  }
 },
 "nbformat": 4,
 "nbformat_minor": 5
}
