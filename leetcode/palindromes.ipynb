{
 "cells": [
  {
   "cell_type": "markdown",
   "id": "appreciated-permission",
   "metadata": {},
   "source": [
    "### 9. Palindrome Number\n",
    "**Easy**\n",
    "\n",
    "Given an integer `x`, return `true` if `x` is palindrome integer.\n",
    "\n",
    "An integer is a palindrome when it reads the same backward as forward. For example, `121` is a palindrome while `123` is not."
   ]
  },
  {
   "cell_type": "code",
   "execution_count": 48,
   "id": "retired-software",
   "metadata": {},
   "outputs": [],
   "source": [
    "def palindrome_number(x):\n",
    "    if x < 0: return False\n",
    "\n",
    "    div = 1 \n",
    "    while x >= 10*div:\n",
    "        div *= 10\n",
    "\n",
    "    while x:\n",
    "        right = x % 10\n",
    "        left = x // div\n",
    "\n",
    "        if left != right: return False\n",
    "\n",
    "        x = (x % div) // 10\n",
    "        div /= 100\n",
    "    return True"
   ]
  },
  {
   "cell_type": "markdown",
   "id": "broadband-employee",
   "metadata": {},
   "source": [
    "### 5. Longest Palindromic Substring\n",
    "**Medium**\n",
    "\n",
    "Given a string `s`, find the longest palindromic substring in `s`. You may assume that the maximum length of `s` is 1000"
   ]
  },
  {
   "cell_type": "code",
   "execution_count": null,
   "id": "scheduled-course",
   "metadata": {},
   "outputs": [],
   "source": [
    "def longest_palindrome(s):\n",
    "    res = ''\n",
    "    res_len = 0\n",
    "    \n",
    "    for i in range(len(s)):\n",
    "        # odd length \n",
    "        l, r = i, i\n",
    "        while l >= r and r < len(s) and s[l] == s[r]:\n",
    "            if (r - l + 1) > res_len:\n",
    "                res = s[l:r+1]\n",
    "                res_len = r - l + 1\n",
    "            l -= 1\n",
    "            r += 1\n",
    "            \n",
    "        # even length\n",
    "        l, r = i, i + 1\n",
    "        while l >= r and r < len(s) and s[l] == s[r]:\n",
    "            if (r - l + 1) > res_len:\n",
    "                res = s[l:r+1]\n",
    "                res_len = r - l + 1\n",
    "            l -= 1\n",
    "            r += 1\n",
    "    return res "
   ]
  },
  {
   "cell_type": "markdown",
   "id": "bridal-expert",
   "metadata": {},
   "source": [
    "### 647. Palindromic Substrings\n",
    "**Medium**\n",
    "\n",
    "Given a string `s`, return the number of palindromic substrings in it.\n",
    "\n",
    "A string is a palindrome when it reads the same backward as forward. A substring is a contiguous sequence of characters within the string."
   ]
  },
  {
   "cell_type": "code",
   "execution_count": 49,
   "id": "middle-fiber",
   "metadata": {},
   "outputs": [],
   "source": [
    "def palindromic_substrings(s):\n",
    "    cnt = 0\n",
    "    for i in range(len(s)):\n",
    "        # odd length\n",
    "        l, r = i, i\n",
    "        while l >= 0 and r < len(s) and s[l] == s[r]:\n",
    "            cnt += 1\n",
    "            l -= 1\n",
    "            r += 1\n",
    "        # even length \n",
    "        l, r = i, i + 1\n",
    "        while l >= 0 and r < len(s) and s[l] == s[r]:\n",
    "            cnt += 1\n",
    "            l -= 1\n",
    "            r += 1\n",
    "    return cnt "
   ]
  },
  {
   "cell_type": "markdown",
   "id": "burning-cameroon",
   "metadata": {},
   "source": [
    "### 125. Valid Palindrome\n",
    "**Easy**\n",
    "\n",
    "A phrase is a palindrome if, after converting all uppercase letters into lowercase letters and removing all non-alphanumeric characters, it reads the same forward and backward. Alphanumeric characters include letters and numbers.\n",
    "\n",
    "Given a string `s`, return `true` if it is a palindrome, or `false` otherwise."
   ]
  },
  {
   "cell_type": "code",
   "execution_count": 59,
   "id": "standing-worst",
   "metadata": {},
   "outputs": [],
   "source": [
    "def valid_palindrome(s):\n",
    "    \n",
    "    def is_alpha_num(letter):\n",
    "        return (ord('A') <= ord(letter) <= ord('Z') or\n",
    "                ord('a') <= ord(letter) <= ord('z') or\n",
    "                ord('0') <= ord(letter) <= ord('9'))\n",
    "    \n",
    "    l, r = 0, len(s) - 1\n",
    "    while l < r:\n",
    "        if not is_alpha_num(s[l]):\n",
    "            l += 1\n",
    "            continue\n",
    "        if not is_alpha_num(s[r]):\n",
    "            r -= 1\n",
    "            continue\n",
    "        if s[l].lower() != s[r].lower():\n",
    "            return False\n",
    "        l += 1\n",
    "        r -= 1\n",
    "    return True"
   ]
  },
  {
   "cell_type": "code",
   "execution_count": 60,
   "id": "relative-occurrence",
   "metadata": {},
   "outputs": [
    {
     "data": {
      "text/plain": [
       "True"
      ]
     },
     "execution_count": 60,
     "metadata": {},
     "output_type": "execute_result"
    }
   ],
   "source": [
    "s = \"A man, a plan, a canal: Panama\"\n",
    "valid_palindrome(s)"
   ]
  },
  {
   "cell_type": "markdown",
   "id": "collective-directive",
   "metadata": {},
   "source": [
    "### 680. Valid Palindrome II\n",
    "\n",
    "Given a string `s`, return `true` if the `s` can be palindrome after deleting at most one character from it"
   ]
  },
  {
   "cell_type": "code",
   "execution_count": 9,
   "id": "digital-airport",
   "metadata": {},
   "outputs": [],
   "source": [
    "def valid_palindrome_II(s):\n",
    "    def is_valid(s):\n",
    "        l, r = 0, len(s) - 1\n",
    "        while l < r:\n",
    "            if s[l] != s[r]:\n",
    "                return False\n",
    "            l += 1\n",
    "            r -= 1\n",
    "        return True \n",
    "\n",
    "    l, r = 0, len(s) - 1\n",
    "    while l < r:\n",
    "        if s[l] == s[r]:\n",
    "            l += 1\n",
    "            r -= 1\n",
    "        else:\n",
    "            return is_valid(s[l:r]) | is_valid(s[l+1:r+1])\n",
    "    return True "
   ]
  },
  {
   "cell_type": "markdown",
   "id": "steady-frank",
   "metadata": {},
   "source": [
    "### 234. Palindrome Linked List\n",
    "**Easy**\n",
    "\n",
    "Given the `head` of a singly linked list, return `true` if it is a palindrome.\n",
    "\n",
    "_Solution with two pointers: fast and slow. The slow is going to step by 1 and the fast - by 2. The slow pointer will be the middle of array when the fast pointer reaches the end of array. Then we will reverse the second half of list_"
   ]
  },
  {
   "cell_type": "code",
   "execution_count": null,
   "id": "divided-jimmy",
   "metadata": {},
   "outputs": [],
   "source": [
    "class ListNode:\n",
    "    def __init__(self, val=0, next=None):\n",
    "        self.val = val\n",
    "        self.next = next\n",
    "        \n",
    "def is_palindrome(head: ListNode) -> bool:\n",
    "    fast = head\n",
    "    slow = head\n",
    "    \n",
    "    # find middle (slow)\n",
    "    while fast and fast.next:\n",
    "        fast = fast.next.next\n",
    "        slow = slow.next\n",
    "        \n",
    "    # reverse second half\n",
    "    prev = None\n",
    "    while slow:\n",
    "        tmp = slow.next\n",
    "        slow.next = prev\n",
    "        prev = slow\n",
    "        slow = tmp\n",
    "        \n",
    "    # check palindrome\n",
    "    left, right = head, prev\n",
    "    while right:\n",
    "        if left.val != right.val:\n",
    "            return False\n",
    "        left = left.next\n",
    "        right = right.next\n",
    "    return True "
   ]
  },
  {
   "cell_type": "markdown",
   "id": "involved-reaction",
   "metadata": {},
   "source": [
    "### 131. Palindrome Partitioning\n",
    "**Medium**\n",
    "\n",
    "Given a string `s`, partition `s` such that every substring of the partition is a palindrome. Return all possible palindrome partitioning of `s`.\n",
    "\n",
    "A palindrome string is a string that reads the same backward as forward.\n",
    "\n",
    "Example: $[aab] \\rightarrow [[a, a, b], [aa, b]]$\n",
    "\n",
    "_Solution with **backtracking**_"
   ]
  },
  {
   "cell_type": "code",
   "execution_count": null,
   "id": "dedicated-handle",
   "metadata": {},
   "outputs": [],
   "source": []
  },
  {
   "cell_type": "code",
   "execution_count": null,
   "id": "junior-maker",
   "metadata": {},
   "outputs": [],
   "source": []
  }
 ],
 "metadata": {
  "kernelspec": {
   "display_name": "Python 3",
   "language": "python",
   "name": "python3"
  },
  "language_info": {
   "codemirror_mode": {
    "name": "ipython",
    "version": 3
   },
   "file_extension": ".py",
   "mimetype": "text/x-python",
   "name": "python",
   "nbconvert_exporter": "python",
   "pygments_lexer": "ipython3",
   "version": "3.9.2"
  },
  "varInspector": {
   "cols": {
    "lenName": 16,
    "lenType": 16,
    "lenVar": 40
   },
   "kernels_config": {
    "python": {
     "delete_cmd_postfix": "",
     "delete_cmd_prefix": "del ",
     "library": "var_list.py",
     "varRefreshCmd": "print(var_dic_list())"
    },
    "r": {
     "delete_cmd_postfix": ") ",
     "delete_cmd_prefix": "rm(",
     "library": "var_list.r",
     "varRefreshCmd": "cat(var_dic_list()) "
    }
   },
   "types_to_exclude": [
    "module",
    "function",
    "builtin_function_or_method",
    "instance",
    "_Feature"
   ],
   "window_display": false
  }
 },
 "nbformat": 4,
 "nbformat_minor": 5
}
