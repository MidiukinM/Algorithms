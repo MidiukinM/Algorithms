{
 "cells": [
  {
   "cell_type": "code",
   "execution_count": 13,
   "id": "vocal-invasion",
   "metadata": {},
   "outputs": [
    {
     "name": "stdout",
     "output_type": "stream",
     "text": [
      "Writing solve.py\n"
     ]
    }
   ],
   "source": [
    "%%writefile solve.py\n",
    "lst = list(input().split())\n",
    "ans = False\n",
    "for el in lst:\n",
    "    if el != 'None':\n",
    "        print(el)\n",
    "        ans = True\n",
    "        break\n",
    "        \n",
    "if not ans:\n",
    "    print('None')"
   ]
  },
  {
   "cell_type": "code",
   "execution_count": 17,
   "id": "auburn-exploration",
   "metadata": {},
   "outputs": [],
   "source": []
  },
  {
   "cell_type": "code",
   "execution_count": null,
   "id": "spanish-poultry",
   "metadata": {},
   "outputs": [],
   "source": []
  },
  {
   "cell_type": "code",
   "execution_count": null,
   "id": "micro-gauge",
   "metadata": {},
   "outputs": [],
   "source": []
  },
  {
   "cell_type": "markdown",
   "id": "closing-governor",
   "metadata": {},
   "source": [
    "### 1. 2Sum\n",
    "\n",
    "Given an array of integers `nums` and an integer `target`, return indices of the two numbers such that they add up to `target`.\n",
    "\n",
    "You may assume that each input would have exactly one solution, and you may not use the same element twice.\n",
    "\n",
    "You can return the answer in any order."
   ]
  },
  {
   "cell_type": "code",
   "execution_count": 1,
   "id": "painful-result",
   "metadata": {},
   "outputs": [],
   "source": [
    "def twosum(nums, target):\n",
    "    d = {}\n",
    "    for i in range(len(nums)):\n",
    "        search = target - nums[i]\n",
    "        if search in d:\n",
    "            return (d[search], i)\n",
    "        d[nums[i]] = i\n",
    "    return False"
   ]
  },
  {
   "cell_type": "code",
   "execution_count": 3,
   "id": "registered-pittsburgh",
   "metadata": {},
   "outputs": [
    {
     "data": {
      "text/plain": [
       "(1, 3)"
      ]
     },
     "execution_count": 3,
     "metadata": {},
     "output_type": "execute_result"
    }
   ],
   "source": [
    "nums = [11, 7, 22, 2]\n",
    "target = 9\n",
    "twosum(nums, target)"
   ]
  },
  {
   "cell_type": "markdown",
   "id": "corporate-migration",
   "metadata": {},
   "source": [
    "### 1099. Two sum less than k\n",
    "\n",
    "Given an array `A` of integers and integer `K`, return the maximum `S` such that there exists `i < j` with `A[i] + A[j] = S` and `S < K`. If no `i, j` exist satisfying this equation, return `-1` "
   ]
  },
  {
   "cell_type": "code",
   "execution_count": 23,
   "id": "modern-cyprus",
   "metadata": {},
   "outputs": [],
   "source": [
    "def twosum_less_k(A, K):\n",
    "    A.sort()\n",
    "\n",
    "    maxsum = -1\n",
    "    start, end = 0, len(A) - 1\n",
    "    while start < end: \n",
    "        twosum = A[start] + A[end]\n",
    "        if twosum >= K:\n",
    "            end -= 1\n",
    "        elif twosum < K:\n",
    "            start += 1\n",
    "            if twosum > maxsum:\n",
    "                maxsum = twosum\n",
    "    return maxsum"
   ]
  },
  {
   "cell_type": "code",
   "execution_count": 25,
   "id": "fatal-consciousness",
   "metadata": {},
   "outputs": [
    {
     "data": {
      "text/plain": [
       "58"
      ]
     },
     "execution_count": 25,
     "metadata": {},
     "output_type": "execute_result"
    }
   ],
   "source": [
    "A = [34, 23, 1, 24, 75, 33, 54, 8]\n",
    "K = 60 \n",
    "\n",
    "twosum_less_k(A, K)"
   ]
  },
  {
   "cell_type": "markdown",
   "id": "received-passport",
   "metadata": {},
   "source": [
    "### 167. 2Sum II - Input array is sorted\n",
    "\n",
    "Given a 1-indexed array of integers `numbers` that is already sorted in non-decreasing order, find two numbers such that they add up to a specific `target` number. Let these two numbers be `numbers[index_1]` and `numbers[index_2]` where `1 <= index_1 < index_2 <= numbers.length`.\n",
    "\n",
    "Return the indices of the two numbers, `index_1` and `index_2`, added by one as an integer array `[index_1, index_2]` of length 2.\n",
    "\n",
    "The tests are generated such that there is exactly one solution. You may not use the same element twice.\n",
    "\n",
    "Your solution must use only constant extra space."
   ]
  },
  {
   "cell_type": "code",
   "execution_count": 6,
   "id": "destroyed-practitioner",
   "metadata": {},
   "outputs": [],
   "source": [
    "def twosumII(nums, target):\n",
    "    start, end = 0, len(nums)-1\n",
    "    while start < end:\n",
    "        if (nums[start] + nums[end]) > target:\n",
    "            end -= 1\n",
    "        elif (nums[start] + nums[end]) < target:\n",
    "            start += 1\n",
    "        else:\n",
    "            return (start + 1, end + 1)\n",
    "    return []"
   ]
  },
  {
   "cell_type": "code",
   "execution_count": 7,
   "id": "following-membership",
   "metadata": {},
   "outputs": [
    {
     "data": {
      "text/plain": [
       "(2, 3)"
      ]
     },
     "execution_count": 7,
     "metadata": {},
     "output_type": "execute_result"
    }
   ],
   "source": [
    "nums = [1, 2, 7, 22]\n",
    "target = 9\n",
    "twosumII(nums, target)"
   ]
  },
  {
   "cell_type": "markdown",
   "id": "desirable-astrology",
   "metadata": {},
   "source": [
    "### 15. 3Sum\n",
    "\n",
    "Given an integer array `nums`, return all the triplets `[nums[i], nums[j], nums[k]]` such that `i != j`, `i != k`, and `j != k`, and `nums[i] + nums[j] + nums[k] == 0`.\n",
    "\n",
    "Notice that the solution set must not contain duplicate triplets."
   ]
  },
  {
   "cell_type": "code",
   "execution_count": 12,
   "id": "universal-environment",
   "metadata": {},
   "outputs": [],
   "source": [
    "def threesum(nums):\n",
    "    nums.sort()\n",
    "    res = []\n",
    "    \n",
    "    for i in range(len(nums)):\n",
    "        if i > 0 and nums[i] == nums[i-1]:\n",
    "            continue\n",
    "        el = nums[i]\n",
    "        start, end = i + 1, len(nums) - 1\n",
    "        while start < end:\n",
    "            threesum = el + nums[start] + nums[end]\n",
    "            if threesum > 0:\n",
    "                end -= 1\n",
    "            elif threesum < 0:\n",
    "                start += 1\n",
    "            else:\n",
    "                res.append([el, nums[start], nums[end]])\n",
    "                start += 1\n",
    "                while nums[start] == nums[start - 1]:\n",
    "                    start += 1\n",
    "    return res"
   ]
  },
  {
   "cell_type": "markdown",
   "id": "civilian-pressure",
   "metadata": {},
   "source": [
    "### 18. 4Sum\n",
    "\n",
    "Given an array nums of `n` integers, return an array of all the unique quadruplets `[nums[a], nums[b], nums[c], nums[d]]` such that:\n",
    "* `0 <= a, b, c, d < n`\n",
    "* `a`, `b`, `c`, and `d` are distinct.\n",
    "* `nums[a] + nums[b] + nums[c] + nums[d] == target`\n",
    "\n",
    "You may return the answer in any order."
   ]
  },
  {
   "cell_type": "code",
   "execution_count": null,
   "id": "sunset-romance",
   "metadata": {},
   "outputs": [],
   "source": [
    "def foursum(nums, target):\n",
    "    nums.sort()\n",
    "    res, quad = [], []\n",
    "    \n",
    "    def kSum(k, start, target):\n",
    "        if k != 2:\n",
    "            for i in range(start, len(nums) - k + 1):\n",
    "                if i > start and nums[i] == nums[i - 1]:\n",
    "                    continue\n",
    "                quad.append(nums[i])\n",
    "                kSum(k - 1, i + 1, target - nums[i])\n",
    "                quad.pop()\n",
    "            return \n",
    "        l, r = start, len(nums) - 1\n",
    "        while l < r:\n",
    "            if nums[l] + nums[r] < target:\n",
    "                l += 1\n",
    "            elif nums[l] + nums[r] > target:\n",
    "                r -= 1\n",
    "            else:\n",
    "                res.append(quad + [nums[l], nums[r]])\n",
    "                l += 1\n",
    "                while l < r and nums[l] == nums[l - 1]:\n",
    "                    l += 1\n",
    "    kSum(4, 0, target)\n",
    "    return res"
   ]
  }
 ],
 "metadata": {
  "kernelspec": {
   "display_name": "Python 3",
   "language": "python",
   "name": "python3"
  },
  "language_info": {
   "codemirror_mode": {
    "name": "ipython",
    "version": 3
   },
   "file_extension": ".py",
   "mimetype": "text/x-python",
   "name": "python",
   "nbconvert_exporter": "python",
   "pygments_lexer": "ipython3",
   "version": "3.9.2"
  },
  "varInspector": {
   "cols": {
    "lenName": 16,
    "lenType": 16,
    "lenVar": 40
   },
   "kernels_config": {
    "python": {
     "delete_cmd_postfix": "",
     "delete_cmd_prefix": "del ",
     "library": "var_list.py",
     "varRefreshCmd": "print(var_dic_list())"
    },
    "r": {
     "delete_cmd_postfix": ") ",
     "delete_cmd_prefix": "rm(",
     "library": "var_list.r",
     "varRefreshCmd": "cat(var_dic_list()) "
    }
   },
   "types_to_exclude": [
    "module",
    "function",
    "builtin_function_or_method",
    "instance",
    "_Feature"
   ],
   "window_display": false
  }
 },
 "nbformat": 4,
 "nbformat_minor": 5
}
