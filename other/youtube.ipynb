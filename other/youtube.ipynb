{
 "cells": [
  {
   "cell_type": "markdown",
   "id": "worse-charleston",
   "metadata": {},
   "source": [
    "## Задачи по алгоритмам для собесов"
   ]
  },
  {
   "cell_type": "markdown",
   "id": "democratic-phenomenon",
   "metadata": {},
   "source": [
    "### Задача №1\n",
    "Дан отсортированный массив и число $k$. Нужно найти 2 числа из массива, в сумме дающие число $k$. \n",
    "\n",
    "_Примеры:_  \n",
    "* $[-1, 2, 5, 9], k=7 \\Rightarrow [2,5]$\n",
    "* $[-3, -1, 0, 2, 6], k=6 \\Rightarrow [0,6]$\n",
    "* $[2,4,5], k=8 \\Rightarrow []$\n",
    "* $[-2, -1, 1, 2], k=0 \\Rightarrow [-2,2]$"
   ]
  },
  {
   "cell_type": "markdown",
   "id": "differential-helping",
   "metadata": {},
   "source": [
    "`Решение №1: Перебор всех пар`"
   ]
  },
  {
   "cell_type": "code",
   "execution_count": 3,
   "id": "small-purple",
   "metadata": {},
   "outputs": [],
   "source": [
    "def solve_1(l, k):\n",
    "    for i in range(len(l)):\n",
    "        for j in range(i+1, len(l)):\n",
    "            if l[i] + l[j] == k:\n",
    "                return [l[i], l[j]]\n",
    "    return []"
   ]
  },
  {
   "cell_type": "markdown",
   "id": "analyzed-detection",
   "metadata": {},
   "source": [
    "**Время:** $O(n^2)$  \n",
    "**Память:** $O(1)$"
   ]
  },
  {
   "cell_type": "markdown",
   "id": "usual-springfield",
   "metadata": {},
   "source": [
    "`Решение №2: HashSet`"
   ]
  },
  {
   "cell_type": "code",
   "execution_count": 6,
   "id": "crazy-sunset",
   "metadata": {},
   "outputs": [],
   "source": [
    "def solve_2(l, k):\n",
    "    hashset = set()\n",
    "    for i in l:\n",
    "        if (k - i) in hashset:\n",
    "            return [i, (k-i)]\n",
    "        hashset.add(i)\n",
    "    return []"
   ]
  },
  {
   "cell_type": "markdown",
   "id": "awful-blackjack",
   "metadata": {},
   "source": [
    "**Время:** $O(n)$  \n",
    "**Память:** $O(n)$"
   ]
  },
  {
   "cell_type": "markdown",
   "id": "occupied-syntax",
   "metadata": {},
   "source": [
    "`Решение №3: Ищем число (k-i) с помощью бинарного поиска`"
   ]
  },
  {
   "cell_type": "code",
   "execution_count": 11,
   "id": "sorted-carpet",
   "metadata": {},
   "outputs": [],
   "source": [
    "def solve_3(l, k):\n",
    "    n = len(l)\n",
    "    for i in range(n):\n",
    "        number_find = k - i\n",
    "        left = i + 1\n",
    "        right = n - 1\n",
    "        while left <= right:\n",
    "            mid = int((left + right) / 2)\n",
    "            if l[mid] == number_find:\n",
    "                return [l[i], l[mid]]\n",
    "            if number_find < l[mid]:\n",
    "                right = mid - 1\n",
    "            else: \n",
    "                left = mid + 1 \n",
    "                \n",
    "    return []"
   ]
  },
  {
   "cell_type": "markdown",
   "id": "quantitative-representative",
   "metadata": {},
   "source": [
    "**Время:** $O(n\\log n)$  \n",
    "**Память:** $O(1)$"
   ]
  },
  {
   "cell_type": "markdown",
   "id": "accepting-native",
   "metadata": {},
   "source": [
    "`Решение №4: Два указателя`"
   ]
  },
  {
   "cell_type": "code",
   "execution_count": 13,
   "id": "mineral-gibraltar",
   "metadata": {},
   "outputs": [],
   "source": [
    "def solve_4(l, k):\n",
    "    left = 0\n",
    "    right = len(l) - 1 \n",
    "    while left < right:\n",
    "        number = l[left] + l[right]\n",
    "        if number == k:\n",
    "            return [l[left], l[right]]\n",
    "        if number < k:\n",
    "            left += 1\n",
    "        else: \n",
    "            right -=1\n",
    "                \n",
    "    return []"
   ]
  },
  {
   "cell_type": "markdown",
   "id": "described-hundred",
   "metadata": {},
   "source": [
    "**Время:** $O(n)$  \n",
    "**Память:** $O(1)$"
   ]
  },
  {
   "cell_type": "markdown",
   "id": "departmental-university",
   "metadata": {},
   "source": [
    "### Задача №2: \n",
    "\n",
    "Тоже самое, что и в первом номере, только теперь если числа $k$ нету, то вывести числа из массива, дающие наиболее близкое число к $k$. Решаем сразу с помощью методов двух указателей. "
   ]
  },
  {
   "cell_type": "code",
   "execution_count": 24,
   "id": "abandoned-chaos",
   "metadata": {},
   "outputs": [],
   "source": [
    "def solve(l, k):\n",
    "    left = 0\n",
    "    right = len(l) - 1 \n",
    "    best_num = k*10**9\n",
    "    while left < right:\n",
    "        num = l[left] + l[right]\n",
    "        if abs(best_num - k) > abs(num - k):\n",
    "            best_num = num\n",
    "            best_left = left\n",
    "            best_right = right\n",
    "        if num == k:\n",
    "            return [l[left], l[right]]\n",
    "        if num < k:\n",
    "            left += 1\n",
    "        else: \n",
    "            right -=1\n",
    "    return [l[best_left], l[best_right]]"
   ]
  },
  {
   "cell_type": "markdown",
   "id": "digital-baker",
   "metadata": {},
   "source": [
    "### Задача: Поиск знаменитости\n",
    "\n",
    "Дано $k$ - число людей. Мы можем спрашивать, знает ли кто-то из $k$ какого-то другого человека. Цель: за меньшее число вопросов найти знаменитость. Знаменитость - тот чел, который никого из компании не знает, но все знают его. \n",
    "\n",
    "`Решение:`  \n",
    "\n",
    "2 указателя. Спрашиваем крайне левого (L) чела, знает ли он крайне правого (R). Если знает, то он точно не знаменитость и двигаем L вправо. Если не знает, то R точно не знаменитость и двигаем R влево. В итоге сходимся к одному челу - он потенциальная знаменитость. Затем для него пробегаем по всем людям и спрашиваем, знает ли он их и знают ли они его. "
   ]
  },
  {
   "cell_type": "code",
   "execution_count": null,
   "id": "center-combination",
   "metadata": {},
   "outputs": [],
   "source": [
    "def solve(persons): \n",
    "    L = 0\n",
    "    R = len(persons) - 1\n",
    "    while L != R: \n",
    "        if (persons[L].knows(persons[R])):\n",
    "            L += 1\n",
    "        else: \n",
    "            R -= 1\n",
    "    for i in range(len(persons)):\n",
    "        if (i != L && (!persons[i].knows(persons[L]) || persons[L].knows(persons[i]))):\n",
    "            return None \n",
    "    return persons[L] "
   ]
  },
  {
   "cell_type": "markdown",
   "id": "obvious-material",
   "metadata": {},
   "source": [
    "**Время:** $O(2n + n) = O(n)$  \n",
    "**Память:** $O(1)$"
   ]
  },
  {
   "cell_type": "markdown",
   "id": "bizarre-pound",
   "metadata": {},
   "source": [
    "### Задача: Подсчет кол-ва путей (динамическое программирование) \n",
    "\n",
    "Дано поле $n * m$. $n$ - число столбцов, $m$ - число строк. Есть робот, который находится в координатах $(1,1)$ и дверь в координатах $(n,m)$. Нужно найти кол-во путей добраться роботу до двери. Робот может ходить только на клетку вправо и вверх. \n"
   ]
  },
  {
   "cell_type": "code",
   "execution_count": null,
   "id": "likely-wisconsin",
   "metadata": {},
   "outputs": [],
   "source": []
  }
 ],
 "metadata": {
  "kernelspec": {
   "display_name": "Python 3",
   "language": "python",
   "name": "python3"
  },
  "language_info": {
   "codemirror_mode": {
    "name": "ipython",
    "version": 3
   },
   "file_extension": ".py",
   "mimetype": "text/x-python",
   "name": "python",
   "nbconvert_exporter": "python",
   "pygments_lexer": "ipython3",
   "version": "3.9.2"
  },
  "varInspector": {
   "cols": {
    "lenName": 16,
    "lenType": 16,
    "lenVar": 40
   },
   "kernels_config": {
    "python": {
     "delete_cmd_postfix": "",
     "delete_cmd_prefix": "del ",
     "library": "var_list.py",
     "varRefreshCmd": "print(var_dic_list())"
    },
    "r": {
     "delete_cmd_postfix": ") ",
     "delete_cmd_prefix": "rm(",
     "library": "var_list.r",
     "varRefreshCmd": "cat(var_dic_list()) "
    }
   },
   "types_to_exclude": [
    "module",
    "function",
    "builtin_function_or_method",
    "instance",
    "_Feature"
   ],
   "window_display": false
  }
 },
 "nbformat": 4,
 "nbformat_minor": 5
}
