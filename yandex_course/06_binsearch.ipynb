{
 "cells": [
  {
   "cell_type": "markdown",
   "id": "disturbed-turkish",
   "metadata": {},
   "source": [
    "## Бинарный поиск\n",
    "\n",
    "**Немного другое определение:**\n",
    "\n",
    "Предположим, что есть отсортированный список из чисел. Задача: найти такой элемент, начиная с которого все остальные числа больше ишущего. Например, есть $[1, 10, 100, 120, 160, 240, 300]$ и нужно найти такое минимальное число (такую засечку), после которой (включая саму ее) все числа в списке больше 150\n",
    "\n",
    "**Процедура:** \n",
    "\n",
    "1. Делим пополам список, получаем число 120\n",
    "2. 120 < 150, поэтому двигаем левую границу до 160, а правую границу оставляем на 300, и делим получившийся список пополам\n",
    "3. Получаем число 240 - оно больше 150, поэтому устанавливаем правую границу в 240, а левую оставляем на 160, и делим получившийся список пополам \n",
    "4. Получаем 160, оно больше 150, поэтому правую границу устанавливаем в 160, левая также остается в 160\n",
    "5. Левая и правая граница совпали, поэтому ответ - левая граница, то есть 160 - это и есть минимальное число, большее 150\n",
    "\n",
    "\n",
    "Это было описание левого бинпоиска. Есть еще правый бинпоиск - тогда ищем до последнего подходящего значения\n",
    "\n",
    "**Применение на практике:**\n",
    "\n",
    "То есть бинпоиском можно решать задачи типа \"сначала все плохо до какого-то момента, а потом все хорошо\" - и вот можно искать момент, с которого все хорошо. Либо наоборот \"сначала все хорошо до какого-то момента, а потом все плохо\" \n",
    "\n",
    "**Сложность:**\n",
    "\n",
    "$O(\\log n)$"
   ]
  },
  {
   "cell_type": "code",
   "execution_count": null,
   "id": "published-entry",
   "metadata": {},
   "outputs": [],
   "source": [
    "def left_binsearch(l, r, check, checkparams):\n",
    "    while l < r: \n",
    "        m = (l + r) // 2 # ищем середину\n",
    "        if check(m, checkparams): # функция, которая проверяет, все ли хорошо\n",
    "            r = m \n",
    "        else: \n",
    "            l = m + 1\n",
    "    return l  "
   ]
  },
  {
   "cell_type": "code",
   "execution_count": null,
   "id": "dirty-operations",
   "metadata": {},
   "outputs": [],
   "source": [
    "def right_binsearch(l, r, check, checkparams):\n",
    "    while l < r: \n",
    "        m = (l + r + 1) // 2 # ищем середину\n",
    "        if check(m, checkparams): # функция, которая проверяет, все ли хорошо\n",
    "            l = m \n",
    "        else: \n",
    "            r = m - 1\n",
    "    return l  "
   ]
  },
  {
   "cell_type": "markdown",
   "id": "threaded-authorization",
   "metadata": {},
   "source": [
    "### Задача №1 \n",
    "\n",
    "В управляющий совет школы входят родители, учителя и учащиеся школы, причем родителей должно быть не менее одной трети об общего числа членов совета. В настоящий момент в совет входят $N$ человек, из них $K$ родителей. Нужно определить, сколько родителей нужно дополнительно ввести в совет, чтобы их число стало составлять не мене трети от числа членов совета. \n",
    "\n",
    "`Решение:` \n",
    "\n",
    "$\\frac{K + M}{N + M} \\geq \\frac{1}{3}$\n",
    "\n",
    "Будем искать левым бинпоиском. $L = 0$, $R = N$ - R берем с запасом"
   ]
  },
  {
   "cell_type": "code",
   "execution_count": 7,
   "id": "stainless-psychology",
   "metadata": {},
   "outputs": [
    {
     "data": {
      "text/plain": [
       "1.2999999999999998"
      ]
     },
     "execution_count": 7,
     "metadata": {},
     "output_type": "execute_result"
    }
   ],
   "source": [
    "def left_binsearch(l, r, check, checkparams):\n",
    "    while l < r: \n",
    "        m = (l + r) // 2 # ищем середину\n",
    "        if check(m, checkparams): # функция, которая проверяет, все ли хорошо\n",
    "            r = m \n",
    "        else: \n",
    "            l = m + 1\n",
    "    return l \n",
    "\n",
    "\n",
    "def check(m, params):\n",
    "    n, k = params\n",
    "    return (k + m) * 3 >= n + m"
   ]
  },
  {
   "cell_type": "markdown",
   "id": "assigned-tenant",
   "metadata": {},
   "source": [
    "### Задача №2\n",
    "\n",
    "Юра решил подготовиться к собеседованию в Яндекс. Он выбрал на сайте leetcod N задач. В первый день Юра решил K задач, а в каждый след. день Юра решал на одну задачу больше, чем в предыдущий день. Определите, сколько дней уйдет у Юры на подготовку к собеседованию\n",
    "\n",
    "`Решение:`\n",
    "\n",
    "В первый день: $K$ задач  \n",
    "Во второй: ($K + 1$) задач \n",
    "$\\ldots$   \n",
    "В M-ый: ($K + M - 1$) задач  \n",
    "\n",
    "$\\Rightarrow (2K + M - 1) \\cdot \\frac{M}{2}$ - вывели формулу арифметической прогрессии"
   ]
  },
  {
   "cell_type": "code",
   "execution_count": 8,
   "id": "adjusted-amazon",
   "metadata": {},
   "outputs": [],
   "source": [
    "def left_binsearch(l, r, check, checkparams):\n",
    "    while l < r: \n",
    "        m = (l + r) // 2 # ищем середину\n",
    "        if check(m, checkparams): # функция, которая проверяет, все ли хорошо\n",
    "            r = m \n",
    "        else: \n",
    "            l = m + 1\n",
    "    return l \n",
    "\n",
    "\n",
    "def check(days, params):\n",
    "    n, k = params\n",
    "    return (k + (k + days - 1)) * days // 2 >= n"
   ]
  },
  {
   "cell_type": "markdown",
   "id": "rising-handle",
   "metadata": {},
   "source": [
    "### Задача №3\n",
    "\n",
    "Михаил читает лекции по алгоритмам. За кадром стоит доска размером $W \\cdot H$ сантиметров. Михаилу нужно разместить на доске $N$ квадратных стикеров со шпаргалками, при этом длина стороны стикера в сантиметрах должна быть целым числом. Определите максимальную длину стороны стикера, чтобы все стикеры поместились на доске. \n",
    "\n",
    "`Решение:`\n",
    "\n",
    "Правый бин поиск, так как сначала все хорошо, а потом (с какого-то размера стикера) становится все плохо "
   ]
  },
  {
   "cell_type": "code",
   "execution_count": null,
   "id": "paperback-course",
   "metadata": {},
   "outputs": [],
   "source": [
    "def right_binsearch(l, r, check, checkparams):\n",
    "    while l < r: \n",
    "        m = (l + r + 1) // 2 # ищем середину\n",
    "        if check(m, checkparams): # функция, которая проверяет, все ли хорошо\n",
    "            l = m \n",
    "        else: \n",
    "            r = m - 1\n",
    "    return l  \n",
    "\n",
    "def check(size, params):\n",
    "    n, w, h = params\n",
    "    return (w // size) * (h // size) >= n "
   ]
  },
  {
   "cell_type": "markdown",
   "id": "crude-stone",
   "metadata": {},
   "source": [
    "### Задача №4\n",
    "\n",
    "Задана отсортированная по неубыванию последовательность из $N$ чисел и число $X$. Необходимо определить индекс первого числа в последовательности, которое больше либо равно $X$. Если такого числа нет, то вернуть число $N$.  "
   ]
  },
  {
   "cell_type": "code",
   "execution_count": 9,
   "id": "taken-acrylic",
   "metadata": {},
   "outputs": [],
   "source": [
    "def left_binsearch(l, r, check, checkparams):\n",
    "    while l < r: \n",
    "        m = (l + r) // 2 # ищем середину\n",
    "        if check(m, checkparams): # функция, которая проверяет, все ли хорошо\n",
    "            r = m \n",
    "        else: \n",
    "            l = m + 1\n",
    "    return l \n",
    "\n",
    "def check(index, params):\n",
    "    seq, x = params\n",
    "    return seq[index] >= x\n",
    "\n",
    "def findfirst(seq, x):\n",
    "    ans = left_binsearch(0, len(seq) - 1, check, (seq, x))\n",
    "    if seq[ans] < x: # если такого числа нет, возвращаем N \n",
    "        return len(seq)\n",
    "    return ans  "
   ]
  },
  {
   "cell_type": "markdown",
   "id": "natural-circular",
   "metadata": {},
   "source": [
    "### Задача №5\n",
    "\n",
    "Задана отсортированная по неубыванию последовательность из $N$ чисел и число $X$. Необходимо определить сколько раз число $X$ входит в последовательность. "
   ]
  },
  {
   "cell_type": "code",
   "execution_count": null,
   "id": "detected-paris",
   "metadata": {},
   "outputs": [],
   "source": [
    "def left_binsearch(l, r, check, checkparams):\n",
    "    while l < r: \n",
    "        m = (l + r) // 2 # ищем середину\n",
    "        if check(m, checkparams): # функция, которая проверяет, все ли хорошо\n",
    "            r = m \n",
    "        else: \n",
    "            l = m + 1\n",
    "    return l \n",
    "\n",
    "def check_greater(index, params):\n",
    "    seq, x = params\n",
    "    return seq[index] > x\n",
    "\n",
    "def check_greate_or_equal(index, params):\n",
    "    seq, x = params\n",
    "    return seq[index] >= x\n",
    "\n",
    "def findfirst(seq, x, check):\n",
    "    ans = left_binsearch(0, len(seq)-1, check, (seq, x))\n",
    "    if not check(ans, (seq, x)):\n",
    "        return len(seq)\n",
    "    return ans \n",
    "\n",
    "def countx(seq, x):\n",
    "    index_greater = findfirst(seq, x, check_greater)\n",
    "    index_greate_or_equal = findfirst(seq, x, check_greate_or_equal)\n",
    "    return index_greater - index_greate_or_equal"
   ]
  },
  {
   "cell_type": "markdown",
   "id": "dedicated-munich",
   "metadata": {},
   "source": [
    "### Задача №6 (Ипотека)\n",
    "\n",
    "Задана процентная ставка по кредиту ($X \\%$ годовых), срок кредитования ($N$ месяцев) и сумма кредита ($M$ рублей). Необходимо рассчитать размер _аннуитетного_ ежемесячного платежа. \n",
    "\n",
    "`Решение подзадачи:` \n",
    "\n",
    "Ежемесячный процент **не равен** $\\frac{X}{12}$. Можно подобрать его бинпоиском (не левый и не правый, а бинпоиск для вещественных чисел). "
   ]
  },
  {
   "cell_type": "code",
   "execution_count": 14,
   "id": "north-enemy",
   "metadata": {},
   "outputs": [],
   "source": [
    "def fbinsearch(l, r, eps, check, checkparams):\n",
    "    while l + eps < r: # так как супер точно вещественные числа никогда не посчитаем\n",
    "        m = (l + r) / 2\n",
    "        if check(m, checkparams):\n",
    "            r = m \n",
    "        else: \n",
    "            l = m \n",
    "    return l \n",
    "\n",
    "\n",
    "def check_monthly_perc(mperc, yperc):\n",
    "    '''\n",
    "    mperc - % в месяц, бинпоиск его перебирает \n",
    "    yperc - % годовых \n",
    "    '''\n",
    "    msum = 1 + mperc / 100\n",
    "    ysum = 1 + yperc / 100\n",
    "    return msum ** 12 >= ysum # платежи за каждый мес. должны быть не меньше, чем платим за год"
   ]
  },
  {
   "cell_type": "code",
   "execution_count": 15,
   "id": "adolescent-defense",
   "metadata": {},
   "outputs": [],
   "source": [
    "x = 12 \n",
    "eps = 0.0001\n",
    "mperc = fbinsearch(0, x, eps, check_monthly_perc, x)"
   ]
  },
  {
   "cell_type": "markdown",
   "id": "imported-block",
   "metadata": {},
   "source": [
    "`Решение самой задачи о размере платежа:`"
   ]
  },
  {
   "cell_type": "code",
   "execution_count": 16,
   "id": "domestic-brain",
   "metadata": {},
   "outputs": [],
   "source": [
    "def check_credit(mpay, params):\n",
    "    periods, creditsum, mperc = params\n",
    "    for i in range(periods):\n",
    "        percpay = creditsum * (mperc / 100)\n",
    "        creditsum -= mpay - percpay\n",
    "    return creditsum <= 0 \n",
    "\n",
    "def fbinsearch(l, r, eps, check, checkparams):\n",
    "    while l + eps < r: # так как супер точно вещественные числа никогда не посчитаем\n",
    "        m = (l + r) / 2\n",
    "        if check(m, checkparams):\n",
    "            r = m \n",
    "        else: \n",
    "            l = m \n",
    "    return l "
   ]
  },
  {
   "cell_type": "code",
   "execution_count": 18,
   "id": "unexpected-movie",
   "metadata": {},
   "outputs": [
    {
     "name": "stdout",
     "output_type": "stream",
     "text": [
      "100816.05054438114\n"
     ]
    }
   ],
   "source": [
    "eps = 0.01 \n",
    "m = 10000000\n",
    "n = 300 \n",
    "\n",
    "monthlypay = fbinsearch(0, m, eps, check_credit, (n, m, mperc))\n",
    "print(monthlypay)"
   ]
  },
  {
   "cell_type": "markdown",
   "id": "nearby-berkeley",
   "metadata": {},
   "source": [
    "### Задача №7 (Бинпоиск по производной)\n",
    "\n",
    "Велосипедисты, участвующие в шоссейной гонке, в некоторый момент времени, который называется начальным, оказались в точках, удаленных от места старта на $x_1, x_2, \\ldots, x_n$ метров ($n$ - общее кол-во велосипедистов, оно не превосходит $100000$). Каждый велосипедист двигается со своей постоянной скоростью $v_1, v_2, \\ldots, v_n$ метров в секунду. Все велосипедисты двигаются в одну и ту же сторону. Репортер, освещающий ход соревнования, хочет определить момент времени, в который расстояние между лидирующим в гонке велосипедистом и замыкающим гонку велосипедистом станет минимальным, чтобы с вертолета сфотографировать сразу всех участников велогонки. Необходимо найти момент времени, когда расстояние станет минимальным. \n",
    "\n",
    "`Решение:` \n",
    "\n",
    "Рассмотрим момент времени $t_0$, когда велосипедисты находятся в каких-то участках трассы. Вполне возможно, что тот велосипедист, скорость которого больше (то есть более быстрый велосипедист) на данный момент едет где-то в конце (потому что стартовал, например, дальше, чем остальные). Его скорость, то есть скорость самого \"медленного в данный момент\" (то есть скорость последнего) велосипедиста будет со временем убывать (так как более быстрые велосипедисты будут обгонять более медленных). Скорость самого быстрого в данный момент (то есть скорость самого первого) велосипедиста будет наоборот только расти и уходить в бесконечность (так как более быстрые обгоняют и скорость становится больше). В итоге получаем 2 функции: убывающую и возрастающую. Оптимальный момент для фото - когда расстояние между этими двумя функцами наименьшее. То есть если определить функцию расстояния (между этими двумя функциями), то она сначала будет убывать, потом будет оптимальный минимум, а потом она начнет расти (так как быстрые велосипедисты обогнали всех медленных и устремляются от них все дальше и дальше, а сначала они к ним приближаются). В итоге можно решить задачу бин поиском с производной (то есть если расстояние в момент времени $t + \\epsilon$ больше чем в текущий момент времени $t$, то тогда функция возрастает и надо для оптимума идти \"назад\", а если меньше, то наоборот \"вперед\")\n",
    "\n",
    "\n",
    "> Определим функцию $dist(t)$, которая будет за $O(N)$ определять расстояние между лидером и замыкающим в момент времени t. Если $dist(t + \\epsilon) > dist(t)$, то функция растет и надо сдвинуть левую границу поиска, иначе - правую"
   ]
  },
  {
   "cell_type": "code",
   "execution_count": 19,
   "id": "vanilla-heart",
   "metadata": {},
   "outputs": [],
   "source": [
    "def dist(t, params):\n",
    "    x, v = params \n",
    "    minpos = maxpos = x[0] + v[0] * t\n",
    "    for i in range(1, len(x)):\n",
    "        nowpos = x[i] + v[i] * t\n",
    "        minpos = min(minpos, nowpos)\n",
    "        maxpos = max(maxpos, nowpos)\n",
    "    return maxpos - minpos\n",
    "\n",
    "def checkasc(t, eps, params):\n",
    "    return dist(t + eps, params) >= dist(t, params)\n",
    "\n",
    "def fbinsearch(l, r, eps, check, params):\n",
    "    while l + eps < r:\n",
    "        m = (l + r) / 2\n",
    "        if check(m, eps, params):\n",
    "            r = m\n",
    "        else: \n",
    "            l = m\n",
    "    return l "
   ]
  }
 ],
 "metadata": {
  "kernelspec": {
   "display_name": "Python 3",
   "language": "python",
   "name": "python3"
  },
  "language_info": {
   "codemirror_mode": {
    "name": "ipython",
    "version": 3
   },
   "file_extension": ".py",
   "mimetype": "text/x-python",
   "name": "python",
   "nbconvert_exporter": "python",
   "pygments_lexer": "ipython3",
   "version": "3.9.2"
  }
 },
 "nbformat": 4,
 "nbformat_minor": 5
}
