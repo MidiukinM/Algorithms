{
 "cells": [
  {
   "cell_type": "markdown",
   "id": "standard-audio",
   "metadata": {},
   "source": [
    "# Делаем с собственным менеджером памяти\n",
    "## Менеджер памяти\n",
    "\n",
    "Создаем структуру для хранения узла дерева. В ней будет число (ключ) и 2 ссылки на другие такие структуры (левый и правый сын). \n",
    "\n",
    "Создадим 3 массива:\n",
    "1. Ключ - что содержательно хранится в элементе\n",
    "2. Левый сын - числовые массив\n",
    "3. Правый сын - числовой массив\n",
    "\n",
    "Каждая ячейка памяти имеет индекс + в левом сыне (просто чтобы не заводить еще одно поле) содержит номер следующей за ней ячейки памяти, поэтому для начала записываем туда на 1 индекс больше. \n",
    "\n",
    "<img src=\"images/mem1.png\" width=\"500\">\n",
    "\n",
    "После инициализации мы заполнили одну ячейку ключом, левым сыном и правым сыном, а потом перешли на ту ячейку, номер которой был в левом сыне заполненной на предыдущем шаге.\n",
    "\n",
    "<img src=\"images/mem2.png\" width=\"500\">\n",
    "\n",
    "Тоже самое для след. шагов: \n",
    "\n",
    "<img src=\"images/mem3.png\" width=\"500\">\n",
    "\n",
    "Теперь попробуем освободить элемент (например, удалим нулевой элемент и теперь его нужно добавить в список свободных). Для этого добавим удаленный элемент в начало нашего списка, причем в левого сына мы указываем индекс первого свободного (не следующего уже) \n",
    "\n",
    "<img src=\"images/mem4.png\" width=\"500\">\n"
   ]
  },
  {
   "cell_type": "code",
   "execution_count": 11,
   "id": "dominican-notion",
   "metadata": {},
   "outputs": [],
   "source": [
    "def initmemory(size_of_table):\n",
    "    '''\n",
    "    size_of_table - максимальное число ячеек\n",
    "    '''\n",
    "    # memory - вся память (вся таблица на скрине)\n",
    "    memory_table = []\n",
    "    for i in range(size_of_table):\n",
    "        # [ключ, левый сын, правый сын]\n",
    "        # что в ключе и правом сыне - неважно - поставим туда пока 0\n",
    "        memory_table.append([0, i+1, 0])\n",
    "    # возвращаем список memory и первый свободный (сначала он 0) - memory structure\n",
    "    return [memory_table, 0]\n",
    "\n",
    "# создать новый нод\n",
    "def newnode(memory_structure):\n",
    "    memory_table, first_free = memory_structure\n",
    "    # теперь на место первого свободного кладем тот, что был до этого в левом сыне предыдущего свободного\n",
    "    memory_structure[1] = memory_table[first_free][1]\n",
    "    return first_free \n",
    "\n",
    "# удаление\n",
    "# index - тот, что удаляем\n",
    "def delnode(memory_structure, index):\n",
    "    memory_table, first_free = memory_structure\n",
    "    # берем ноду с номером index, кладем на место левого сына первый свободный\n",
    "    memory_table[index][1] = first_free\n",
    "    # меняем первый свободный в самой структуре\n",
    "    memory_structure[1] = index"
   ]
  },
  {
   "cell_type": "code",
   "execution_count": 12,
   "id": "velvet-bidder",
   "metadata": {},
   "outputs": [
    {
     "data": {
      "text/plain": [
       "[[[0, 1, 0], [0, 2, 0], [0, 3, 0], [0, 4, 0]], 0]"
      ]
     },
     "execution_count": 12,
     "metadata": {},
     "output_type": "execute_result"
    }
   ],
   "source": [
    "memstruct = initmemory(4)\n",
    "memstruct"
   ]
  },
  {
   "cell_type": "code",
   "execution_count": 13,
   "id": "promising-backup",
   "metadata": {},
   "outputs": [
    {
     "data": {
      "text/plain": [
       "0"
      ]
     },
     "execution_count": 13,
     "metadata": {},
     "output_type": "execute_result"
    }
   ],
   "source": [
    "newnode(memstruct)"
   ]
  },
  {
   "cell_type": "code",
   "execution_count": 14,
   "id": "fourth-company",
   "metadata": {},
   "outputs": [
    {
     "data": {
      "text/plain": [
       "[[[0, 1, 0], [0, 2, 0], [0, 3, 0], [0, 4, 0]], 1]"
      ]
     },
     "execution_count": 14,
     "metadata": {},
     "output_type": "execute_result"
    }
   ],
   "source": [
    "memstruct"
   ]
  },
  {
   "cell_type": "code",
   "execution_count": 15,
   "id": "divine-investing",
   "metadata": {},
   "outputs": [
    {
     "data": {
      "text/plain": [
       "1"
      ]
     },
     "execution_count": 15,
     "metadata": {},
     "output_type": "execute_result"
    }
   ],
   "source": [
    "newnode(memstruct)"
   ]
  },
  {
   "cell_type": "code",
   "execution_count": 16,
   "id": "careful-watson",
   "metadata": {},
   "outputs": [
    {
     "data": {
      "text/plain": [
       "[[[0, 1, 0], [0, 2, 0], [0, 3, 0], [0, 4, 0]], 2]"
      ]
     },
     "execution_count": 16,
     "metadata": {},
     "output_type": "execute_result"
    }
   ],
   "source": [
    "memstruct"
   ]
  },
  {
   "cell_type": "code",
   "execution_count": 17,
   "id": "hindu-architecture",
   "metadata": {},
   "outputs": [],
   "source": [
    "delnode(memstruct, 0)"
   ]
  },
  {
   "cell_type": "code",
   "execution_count": 18,
   "id": "tribal-mattress",
   "metadata": {},
   "outputs": [
    {
     "data": {
      "text/plain": [
       "[[[0, 2, 0], [0, 2, 0], [0, 3, 0], [0, 4, 0]], 0]"
      ]
     },
     "execution_count": 18,
     "metadata": {},
     "output_type": "execute_result"
    }
   ],
   "source": [
    "memstruct"
   ]
  },
  {
   "cell_type": "markdown",
   "id": "conditional-consideration",
   "metadata": {},
   "source": [
    "## Бинарное дерево поиска\n",
    "\n",
    "* У каждого узла ключ и два сына - левый и правый \n",
    "* В левом поддереве ключи меньше, а в правом - больше\n",
    "* Если ключи поступают в случайном порядке, то глубина дерева будет $O(\\log N)$"
   ]
  },
  {
   "cell_type": "markdown",
   "id": "nonprofit-disabled",
   "metadata": {},
   "source": [
    "**Поиск по дереву:** \n",
    "\n",
    "<img src=\"images/TREE.png\" width=\"500\">"
   ]
  },
  {
   "cell_type": "code",
   "execution_count": null,
   "id": "veterinary-contact",
   "metadata": {},
   "outputs": [],
   "source": [
    "# функция для нахождения индекса элемента x в дереве\n",
    "def find(memory_structure, root, x):\n",
    "    '''\n",
    "    memory_structure - наша структура память (на 0 позиции стоит таблица, на 1 позиции первый свободный элемент)\n",
    "    root - корень дерева\n",
    "    x - число, которое ищем\n",
    "    '''\n",
    "    # получаем ключ из таблицы памяти с номером ноды root \n",
    "    key = memory_structure[0][root][0] # изначально это значение, которое лежит в корне \n",
    "                                       #(в дальнейшем - значение в узле)\n",
    "    # если x совпал с ключом в корне, то возвращаем индекс root\n",
    "    if x == key:\n",
    "        return root\n",
    "    # если x < значения в узле\n",
    "    elif x < key:\n",
    "        # получаем индекс левого соседа\n",
    "        left = memory_structure[0][root][1]\n",
    "        # если левого соседа нет, то и значения такого нет (возвращаем -1)\n",
    "        if left == -1: \n",
    "            return -1 \n",
    "        else: \n",
    "            return find(memory_structure, left, x) # рекурсивно вызываем ту же функцию, \n",
    "                                                   # но теперь корень это левая вершина\n",
    "    elif x > key:\n",
    "        # получаем индекс правого соседа\n",
    "        right = memory_structure[0][root][2] \n",
    "        if right == -1:\n",
    "            return -1 \n",
    "        else: \n",
    "            return find(memory_structure, right, x)"
   ]
  },
  {
   "cell_type": "markdown",
   "id": "special-array",
   "metadata": {},
   "source": [
    "`Сложность поиска` в худшем случае $O(N)$, но если дерево сбалансированно (то есть элементы влево и вправо добавляются случайно), то тогда $O(\\log N)$"
   ]
  },
  {
   "cell_type": "markdown",
   "id": "medium-visiting",
   "metadata": {},
   "source": [
    "**Добавление элемента в дерево:**\n",
    "\n",
    "<img src=\"images/add.png\" width=\"500\">"
   ]
  },
  {
   "cell_type": "markdown",
   "id": "present-front",
   "metadata": {},
   "source": [
    "Тоже самое что с функцией поиска, только теперь когда мы не находим элемент, мы возвращаем не -1, а добавляем на это место элемент "
   ]
  },
  {
   "cell_type": "code",
   "execution_count": 22,
   "id": "unable-symphony",
   "metadata": {},
   "outputs": [],
   "source": [
    "def create_and_fill_node(memory_structure, key):\n",
    "    index = newnode(memory_structure)\n",
    "    memory_structure[0][index][0] = key\n",
    "    memory_structure[0][index][1] = -1\n",
    "    memory_structure[0][index][2] = -1\n",
    "    return index\n",
    "\n",
    "\n",
    "def add(memory_structure, root, x):\n",
    "    key = memory_structure[0][root][0]\n",
    "    if x < key:\n",
    "        left = memory_structure[0][root][1]\n",
    "        if left == -1: \n",
    "            memory_structure[0][root][1] = create_and_fill_node(memory_structure, x)\n",
    "        else: \n",
    "            add(memory_structure, left, x)\n",
    "    elif x > key:\n",
    "        right = memory_structure[0][root][2] \n",
    "        if right == -1:\n",
    "            memory_structure[0][root][1] = create_and_fill_node(memory_structure, x)\n",
    "        else: \n",
    "            add(memory_structure, right, x)"
   ]
  },
  {
   "cell_type": "markdown",
   "id": "technological-oracle",
   "metadata": {},
   "source": [
    "`Сложность добавления` в худшем случае $O(H)$, где $H$ - высота дерева. Также в худшем случае $H$ может быть равно $N$, в срднем $H = \\log N$. В массиве добавления элемента в середину происходит за $O(N)$ в среднем"
   ]
  },
  {
   "cell_type": "markdown",
   "id": "peaceful-decade",
   "metadata": {},
   "source": [
    "Пример создания дерева:"
   ]
  },
  {
   "cell_type": "code",
   "execution_count": 23,
   "id": "regulation-singapore",
   "metadata": {},
   "outputs": [],
   "source": [
    "memstruct = initmemory(20)\n",
    "root = create_and_fill_node(memstruct, 8)\n",
    "\n",
    "add(memstruct, root, 10)\n",
    "add(memstruct, root, 9)\n",
    "add(memstruct, root, 14)\n",
    "add(memstruct, root, 13)\n",
    "add(memstruct, root, 3)\n",
    "add(memstruct, root, 1)\n",
    "add(memstruct, root, 6)\n",
    "add(memstruct, root, 4)\n",
    "add(memstruct, root, 7)"
   ]
  },
  {
   "cell_type": "markdown",
   "id": "functional-recovery",
   "metadata": {},
   "source": [
    "**Удаление элемента:**\n",
    "\n",
    "<img src=\"images/del.png\" width=\"500\">\n",
    "\n",
    "<img src=\"images/del2.png\" width=\"500\">\n",
    "\n",
    "<img src=\"images/del3.png\" width=\"500\">"
   ]
  },
  {
   "cell_type": "markdown",
   "id": "vulnerable-gross",
   "metadata": {},
   "source": [
    "## Представление дерева в Python\n",
    "\n",
    "$[key, [left], [right]]$\n",
    "\n",
    "<img src=\"images/example_tree.png\" width=\"200\">"
   ]
  },
  {
   "cell_type": "code",
   "execution_count": 25,
   "id": "tough-poison",
   "metadata": {},
   "outputs": [
    {
     "data": {
      "text/plain": [
       "[5, [2, None, [3, None, None]], [7, None, [8, None, None]]]"
      ]
     },
     "execution_count": 25,
     "metadata": {},
     "output_type": "execute_result"
    }
   ],
   "source": [
    "[5, [2, None, [3, None, None]], [7, None, [8, None, None]]]"
   ]
  },
  {
   "cell_type": "markdown",
   "id": "piano-philosophy",
   "metadata": {},
   "source": [
    "## Обход дерева:\n",
    "* сначала влево до упора (печатаем)\n",
    "* потом на один этап наверх обратно в себя (печатаем)\n",
    "* потом вправо на один вниз (печатаем) \n",
    "* повторяем... \n",
    "\n",
    "<img src=\"images/path.png\" width=\"500\">\n",
    "\n",
    "## Резюме:\n",
    "\n",
    "* Дерево - отличная структура данных, когда у нас есть операции по поиску, добавлению и удалению элементов. \n",
    "* + в дереве можем искать следующий по величине элемент в отличие от хеш-таблицы. Однако, бин поиск тоже позволяет это делать и лучше использовать его по возможности"
   ]
  },
  {
   "cell_type": "markdown",
   "id": "industrial-viewer",
   "metadata": {},
   "source": [
    "## Сериализация дерева Хаффмана\n",
    "\n",
    "* Алгоритм Хаффмана позволяет сопоставить более часто встречающимся символам более короткий код\n",
    "* Каждый раз берем два самых редко встречающихся символа и объединяем их в один узел \n",
    "* Строим бинарное дерево, кладем буквы в листья. Переход в левого сына кодируется числом 0, в правого числом 1, а код символа - это все ребра на пути от корня до листа\n",
    "* Например, буква 'a' встречается 4 раза, 'б' - 3 раза, а 'в' и 'г' по одному разу. Тогда дерево выглядит так:\n",
    "\n",
    "<img src=\"images/haff.png\" width=\"200\">\n",
    "\n",
    "Тогда буквы кодируются следующим образом: а = 0, б = 11, в = 100, г = 101, причем коды получаются _безпрефиксные_ (коды не являются началом других), то есть нет например кода 10 и 100 - это круто, потому что иначе было бы непонятно, что брать, когда расшифровываешь последовательность 011100"
   ]
  },
  {
   "cell_type": "markdown",
   "id": "athletic-equilibrium",
   "metadata": {},
   "source": [
    "## Как сохранить структуру дерева в виде строки? \n",
    "\n",
    "1. Обычный обход дерева:\n",
    "\n",
    "L - в левого ребенка, R - в правого, U - в предка. Тогда для примера выше: LURLLURUURUU \n",
    "\n",
    "2. D - в наиболее левого непосещенного ребенка (детей всегда либо два либо 0), U - в предка\n",
    "\n",
    "Тогда для примера выше: DUDDDUDUUDUU\n",
    "\n",
    "3. D - в наиболее левого непосещенного ребенка (детей всегда либо два либо 0), U - поднимаемся вверх до тех пор, пока приходим из правого, а если стали из левого, то переходим в правого - за это все отвечает одна U \n",
    "\n",
    "Тогда для примера выше: DUDDUU"
   ]
  },
  {
   "cell_type": "markdown",
   "id": "micro-guatemala",
   "metadata": {},
   "source": [
    "## Задача: \n",
    "\n",
    "> По сериализованной записи, составленной кодом из пункта 3 восстановить код для листьев"
   ]
  },
  {
   "cell_type": "code",
   "execution_count": null,
   "id": "respected-phenomenon",
   "metadata": {},
   "outputs": [],
   "source": [
    "def maketree(serialized):\n",
    "    tree = {'left': None, 'right': None, 'up': None, 'type': 'root'}\n",
    "    nownode = tree \n",
    "    for sym in serialized:\n",
    "        if sym == 'D':\n",
    "            newnode = {'left': None, 'right': None, 'up': nownode, 'type': 'left'}\n",
    "            nownode['left'] = newnode\n",
    "            nownode = newnode\n",
    "        elif sym == 'U':\n",
    "            while nownode['type'] == 'right':\n",
    "                nownode = nownode['up']\n",
    "            nownode = nownode['up']\n",
    "            newnode = {'left': None, 'right': None, 'up': nownode, 'type': 'right'}\n",
    "            nownode['right'] = newnode\n",
    "            nownode = newnode\n",
    "    return tree\n",
    "\n",
    "def traverse(root, prefix):\n",
    "    if root['left'] is None and root['right'] is None:\n",
    "        return [''.join(prefix)]\n",
    "    prefix.append('0')\n",
    "    ans = traverse(root['left'], prefix)\n",
    "    prefix.pop()\n",
    "    prefix.append('1')\n",
    "    \n",
    "    ans.extend(traverse(root['right'], prefix))\n",
    "    prefix.pop()\n",
    "    return ans"
   ]
  }
 ],
 "metadata": {
  "kernelspec": {
   "display_name": "Python 3",
   "language": "python",
   "name": "python3"
  },
  "language_info": {
   "codemirror_mode": {
    "name": "ipython",
    "version": 3
   },
   "file_extension": ".py",
   "mimetype": "text/x-python",
   "name": "python",
   "nbconvert_exporter": "python",
   "pygments_lexer": "ipython3",
   "version": "3.9.2"
  }
 },
 "nbformat": 4,
 "nbformat_minor": 5
}
