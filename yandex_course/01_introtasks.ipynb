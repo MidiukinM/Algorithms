{
 "cells": [
  {
   "cell_type": "markdown",
   "id": "unauthorized-application",
   "metadata": {},
   "source": [
    "## Тема №1: Простые задачи\n",
    "\n",
    "* Указатели\n",
    "* 2 прогона по одной последовательности - $O(2N)$\n",
    "* Флаги \n",
    "* Выбор точки отсчета"
   ]
  },
  {
   "cell_type": "markdown",
   "id": "expressed-execution",
   "metadata": {},
   "source": [
    "### Задача №1\n",
    "\n",
    "Дана строка. Найти в ней самый часто встречающийся символ"
   ]
  },
  {
   "cell_type": "code",
   "execution_count": 14,
   "id": "banner-reason",
   "metadata": {},
   "outputs": [],
   "source": [
    "def solve(s):\n",
    "    ans = '' # если вдруг строка будет пустая, выведем пустоту\n",
    "    anscnt = 0 # если строка пустая, то символ встречается 0 раз \n",
    "    dct = {} # каждый символ в строке будет ключом в словаре, а значения в словаре - его частота\n",
    "    for now in s:\n",
    "        if now not in dct:\n",
    "            dct[now] = 0\n",
    "        dct[now] += 1 \n",
    "    for key in dct: # теперь пробегаемся по всем символам и ищем максимальный по частоте \n",
    "        if dct[key] > anscnt:\n",
    "            anscnt = dct[key]\n",
    "            ans = key\n",
    "    return (ans, anscnt)"
   ]
  },
  {
   "cell_type": "markdown",
   "id": "quantitative-weapon",
   "metadata": {},
   "source": [
    "`Сложность по времени:` $O(N)$  \n",
    "`Сложность по памяти:` $O(K)$"
   ]
  },
  {
   "cell_type": "markdown",
   "id": "requested-price",
   "metadata": {},
   "source": [
    "### Задача №2\n",
    "\n",
    "Найти первое (левое) вхождение положительного числа $X$ в последовательности из чисел длиной $N$ или вывести $-1$, если число $X$ не встретилось"
   ]
  },
  {
   "cell_type": "code",
   "execution_count": 2,
   "id": "working-documentation",
   "metadata": {},
   "outputs": [],
   "source": [
    "def findx(seq, x):\n",
    "    ans = -1 # изначально положим -1, чтобы выводить его, если x не найдется\n",
    "    for i in range(len(seq)):\n",
    "        if ans == -1 and seq[i] == x:\n",
    "            ans = seq[i] \n",
    "    return ans"
   ]
  },
  {
   "cell_type": "markdown",
   "id": "documentary-headset",
   "metadata": {},
   "source": [
    "`Сложность по времени:` $O(N)$  \n",
    "`Сложность по памяти:` $O(1)$"
   ]
  },
  {
   "cell_type": "markdown",
   "id": "peaceful-florence",
   "metadata": {},
   "source": [
    "Тоже самое, но теперь найти последнее (правое) вхождение"
   ]
  },
  {
   "cell_type": "code",
   "execution_count": 3,
   "id": "interpreted-reserve",
   "metadata": {},
   "outputs": [],
   "source": [
    "def findx(seq, x):\n",
    "    ans = -1 # изначально положим -1, чтобы выводить его, если x не найдется\n",
    "    for i in range(len(seq)):\n",
    "        if seq[i] == x:\n",
    "            ans = seq[i] \n",
    "    return ans "
   ]
  },
  {
   "cell_type": "markdown",
   "id": "effective-lightweight",
   "metadata": {},
   "source": [
    "`Сложность по времени:` $O(N)$  \n",
    "`Сложность по памяти:` $O(1)$"
   ]
  },
  {
   "cell_type": "markdown",
   "id": "steady-happening",
   "metadata": {},
   "source": [
    "### Задача №3\n",
    "\n",
    "Найти максимальное число в последовательности"
   ]
  },
  {
   "cell_type": "code",
   "execution_count": 4,
   "id": "rough-allocation",
   "metadata": {},
   "outputs": [],
   "source": [
    "def findmax(seq):\n",
    "    ans = 0 # изначально считаем максимальным первое число\n",
    "    for i in range(1, len(seq)):\n",
    "        if seq[i] > seq[ans]: # если находим число больше, то меняем\n",
    "            ans = i\n",
    "    return seq[ans] "
   ]
  },
  {
   "cell_type": "markdown",
   "id": "returning-spine",
   "metadata": {},
   "source": [
    "`Сложность по времени:` $O(N)$  \n",
    "`Сложность по памяти:` $O(1)$"
   ]
  },
  {
   "cell_type": "markdown",
   "id": "painted-split",
   "metadata": {},
   "source": [
    "### Задача №4\n",
    "\n",
    "Найти максимальное число в последовательности и второй по величине максимум\n",
    "\n",
    "`Решение:` \n",
    "\n",
    "Смотрим на первые 2 числа в последовательности. Максимальное из этих двух чисел будем считать первым максимумом, а минимальное из двух - вторым максимумом. Теперь получается, что если число из последовательности больше первого максимума (значит оно больше и второго максимума), то тогда оно становится первым максимумом, а вторым максимумом становится то, которое до этого было первым. Если же текущее число больше второго максимума (но меньше первого), то тогда первый максимум остается на месте, а текущее число становится вторым максимумом. "
   ]
  },
  {
   "cell_type": "code",
   "execution_count": null,
   "id": "moved-intelligence",
   "metadata": {},
   "outputs": [],
   "source": [
    "def findmax2(seq):\n",
    "    max1 = max(seq[0], seq[1])\n",
    "    max2 = min(seq[0], seq[1])\n",
    "    for i in range(len(seq)):\n",
    "        if seq[i] > max1:\n",
    "            max2 = max1\n",
    "            max1 = seq[i]\n",
    "        elif seq[i] > max2:\n",
    "            max2 = seq[i]\n",
    "    return (max1, max2)"
   ]
  },
  {
   "cell_type": "markdown",
   "id": "selected-singles",
   "metadata": {},
   "source": [
    "`Сложность по времени:` $O(N)$  \n",
    "`Сложность по памяти:` $O(1)$"
   ]
  },
  {
   "cell_type": "markdown",
   "id": "useful-latin",
   "metadata": {},
   "source": [
    "### Задача №5\n",
    "\n",
    "Найти минимальное четное число в последовательности или вывести -1, если такого не существует"
   ]
  },
  {
   "cell_type": "code",
   "execution_count": 2,
   "id": "prime-closing",
   "metadata": {},
   "outputs": [],
   "source": [
    "def findmineven(seq):\n",
    "    ans = -1\n",
    "    for i in range(len(seq)):\n",
    "        # если число четное и до этого мы не встречали четного числа, то записываем текущее число в четное\n",
    "        # а если число четное и до этого уже встречали четное, то их надо сравнить и выбрать меньшее\n",
    "        if (seq[i] % 2 == 0) and (ans == -1 or seq[i] < ans):\n",
    "            ans = seq[i]\n",
    "    return ans "
   ]
  },
  {
   "cell_type": "markdown",
   "id": "suspected-sport",
   "metadata": {},
   "source": [
    "`Сложность по времени:` $O(N)$  \n",
    "`Сложность по памяти:` $O(1)$"
   ]
  },
  {
   "cell_type": "markdown",
   "id": "annoying-neighbor",
   "metadata": {},
   "source": [
    "### Задача №6\n",
    "\n",
    "Дана последовательность слов. Вывести все самые короткие слова через пробел. "
   ]
  },
  {
   "cell_type": "code",
   "execution_count": null,
   "id": "transsexual-things",
   "metadata": {},
   "outputs": [],
   "source": [
    "def shortwords(words):\n",
    "    minlen = len(words[0]) # берем за минимальную длину - длину первого слова\n",
    "    for word in words:\n",
    "        # если длина текущего слова меньше, чем минимальная на данном шаге, то заменяем на меньшее\n",
    "        if len(word) < minlen:\n",
    "            minlen = len(words)\n",
    "            \n",
    "    # теперь ищем слова с этой длиной \n",
    "    # *не делаем в одном цикле выше, т.к. долго копировать строки - лучше через список\n",
    "    ans = []\n",
    "    for word in words:\n",
    "        if len(word) == minlen:\n",
    "            ans.append(word)\n",
    "    return ' '.join(ans)"
   ]
  },
  {
   "cell_type": "code",
   "execution_count": 10,
   "id": "better-floating",
   "metadata": {},
   "outputs": [
    {
     "name": "stdout",
     "output_type": "stream",
     "text": [
      "Writing solve.py\n"
     ]
    }
   ],
   "source": [
    "%%writefile solve.py\n",
    "words = input().split()\n",
    "\n",
    "minlen = len(words[0])\n",
    "for word in words:\n",
    "    if len(word) < minlen:\n",
    "        minlen = len(word)\n",
    "\n",
    "ans = []\n",
    "for word in words:\n",
    "    if len(word) == minlen:\n",
    "        ans.append(word)\n",
    "print(' '.join(ans))"
   ]
  },
  {
   "cell_type": "markdown",
   "id": "amateur-december",
   "metadata": {},
   "source": [
    "`Сложность по времени:` $O(N)$  \n",
    "`Сложность по памяти:` $O(K)$"
   ]
  },
  {
   "cell_type": "markdown",
   "id": "under-bidding",
   "metadata": {},
   "source": [
    "### Задача №7\n",
    "\n",
    "Дана строка, состоящая из букв A-Z. Нужно написать сжатие RLE, которая на выходе даст уникальные числа в строке и то, сколько раз они друг за другом встретились. \n",
    "\n",
    "_Пример:_  \n",
    "AAAABBCCCCCCDDDAAAA -> A4B2C6D3A4"
   ]
  },
  {
   "cell_type": "code",
   "execution_count": 24,
   "id": "assisted-extra",
   "metadata": {},
   "outputs": [],
   "source": [
    "def RLE(s):\n",
    "    lastsym = s[0]\n",
    "    lastcnt = 0\n",
    "    ans = []\n",
    "    for i in range(1,len(s)): \n",
    "        if lastsym != s[i]:\n",
    "            ans.append(lastsym)\n",
    "            ans.append(str(i - lastcnt))\n",
    "            lastsym = s[i]\n",
    "            lastcnt = i \n",
    "    ans.append(lastsym)\n",
    "    ans.append(str(i - lastcnt + 1))\n",
    "    return ''.join(ans)"
   ]
  },
  {
   "cell_type": "markdown",
   "id": "boring-wheat",
   "metadata": {},
   "source": [
    "`Сложность по времени:` $O(N)$  \n",
    "`Сложность по памяти:` $O(K)$"
   ]
  }
 ],
 "metadata": {
  "kernelspec": {
   "display_name": "Python 3",
   "language": "python",
   "name": "python3"
  },
  "language_info": {
   "codemirror_mode": {
    "name": "ipython",
    "version": 3
   },
   "file_extension": ".py",
   "mimetype": "text/x-python",
   "name": "python",
   "nbconvert_exporter": "python",
   "pygments_lexer": "ipython3",
   "version": "3.9.2"
  },
  "varInspector": {
   "cols": {
    "lenName": 16,
    "lenType": 16,
    "lenVar": 40
   },
   "kernels_config": {
    "python": {
     "delete_cmd_postfix": "",
     "delete_cmd_prefix": "del ",
     "library": "var_list.py",
     "varRefreshCmd": "print(var_dic_list())"
    },
    "r": {
     "delete_cmd_postfix": ") ",
     "delete_cmd_prefix": "rm(",
     "library": "var_list.r",
     "varRefreshCmd": "cat(var_dic_list()) "
    }
   },
   "types_to_exclude": [
    "module",
    "function",
    "builtin_function_or_method",
    "instance",
    "_Feature"
   ],
   "window_display": false
  }
 },
 "nbformat": 4,
 "nbformat_minor": 5
}
