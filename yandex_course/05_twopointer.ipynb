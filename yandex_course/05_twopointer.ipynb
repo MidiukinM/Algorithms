{
 "cells": [
  {
   "cell_type": "markdown",
   "id": "proud-toolbox",
   "metadata": {},
   "source": [
    "## Два указателя"
   ]
  },
  {
   "cell_type": "markdown",
   "id": "registered-battlefield",
   "metadata": {},
   "source": [
    "### Задача №1\n",
    "\n",
    "Дана отсортированная последовательность чисел длиной $N$ и число $K$. Необходимо найти кол-во пар чисел $A$, $B$, таких что $B - A > K$"
   ]
  },
  {
   "cell_type": "code",
   "execution_count": 1,
   "id": "historic-showcase",
   "metadata": {},
   "outputs": [],
   "source": [
    "def solve(nums, K):\n",
    "    start = 0\n",
    "    end = len(nums)-1\n",
    "\n",
    "    ans = 0 \n",
    "    i = 1 \n",
    "    while start != end:\n",
    "        if nums[start] + nums[end] > K:\n",
    "            ans += len(nums)-i \n",
    "            end = len(nums)-1-i\n",
    "        else: \n",
    "            start = i\n",
    "        i += 1\n",
    "    return ans "
   ]
  },
  {
   "cell_type": "markdown",
   "id": "super-editor",
   "metadata": {},
   "source": [
    "`Сложность по времени:` $O(N)$"
   ]
  },
  {
   "cell_type": "markdown",
   "id": "trained-internet",
   "metadata": {},
   "source": [
    "### Задача №2\n",
    "\n",
    "Игрок в футбол обладает одной числовой характеристикой - профессионализмом. Команда называется сплоченной, если профессионализм любого игрока не превосходит суммарный профессионализм любых двух других игроков из команды. Команда может сосстоять из любого кол-ва игроков. Дана отсортированная последовательность чисел длиной $N$ - профессионализм игроков. Необходимо собрать сплоченную команду с максимальным профессионализмом\n",
    "\n",
    "`Решение:`\n",
    "\n",
    "$[2, 3, 5, 8, 9, 10]$\n",
    "\n",
    "Идем с конца и берем самого крайнего справа за самого сильного игрока в команде. Кто тогда к нему в команду подходит? Начинаем идти слева и находим игрока, который возможен в этой команде и имеет больший профессионализм. Например, 2 и 3 не могут быть вместе в команде, где есть 10. Тогда 2 вообще невыгодно брать, выгодно брать 3. 3 и 5 опять не могут быть в команде, где есть 10. Тогда 3 невыгодно брать и надо брать 5. 5 и 8 могут быть в команде, где есть 10, значит их обоих надо брать, причем и всех, кто идет за ними, так как они никак не повлияют на сплоченность (числа дальше больше). Значит задача сводится к тому, чтобы найти минимальный профессионализм, доступный с игроком с самым большим профессионализмом и взять всех игроков с таким минимальным профессионализмом либо больше (на примере для команды, где есть 10 - игрок с минимальным профессионализмом это 5 (так как 5+8>10) и надо брать 5, 8, 9 в команду к 10)"
   ]
  },
  {
   "cell_type": "code",
   "execution_count": 2,
   "id": "iraqi-absolute",
   "metadata": {},
   "outputs": [],
   "source": [
    "nums = [2,3,5,8,9,10,100]\n",
    "\n",
    "def getbestprof(nums):\n",
    "    best_prof = nums[len(nums) - 1]\n",
    "\n",
    "    for end in range(len(nums)-1, 0, -1):\n",
    "        start = 0\n",
    "        cur_prof = nums[end]\n",
    "        while start+1 <= end:\n",
    "            if nums[start] + nums[start+1] >= nums[end]:\n",
    "                cur_prof += nums[start]\n",
    "            start += 1 \n",
    "        best_prof = max(best_prof, cur_prof)\n",
    "\n",
    "    return best_prof"
   ]
  },
  {
   "cell_type": "markdown",
   "id": "single-minutes",
   "metadata": {},
   "source": [
    "`Сложность по времени:` $O(N)$"
   ]
  },
  {
   "cell_type": "markdown",
   "id": "fifty-privacy",
   "metadata": {},
   "source": [
    "### Задача №3\n",
    "\n",
    "Даны две отсортированные последовательности чисел (длиной $N$ и $M$ соответственно). Необходимо слить их в одну отсортированную последовательность \n",
    "\n",
    "`Решение:` \n",
    "\n",
    "Поставим 2 указателя на начало каждой из последовательностей. Выберем тот, который указывает на меньшее число, запишем это число в результат и сдвинем указатель. "
   ]
  },
  {
   "cell_type": "code",
   "execution_count": 3,
   "id": "swedish-writer",
   "metadata": {},
   "outputs": [],
   "source": [
    "def merge(nums1, nums2):\n",
    "    merged = [0] * (len(nums1) + len(nums2))\n",
    "    first1 = first2 = 0\n",
    "    for k in range(len(nums1) + len(nums2)):\n",
    "        if first1 != len(nums1) and (first2 == len(nums2) or nums1[first1] < nums2[first2]):\n",
    "            merged[k] = nums1[first1]\n",
    "            first1 += 1\n",
    "        else:\n",
    "            merged[k] = nums2[first2]\n",
    "            first2 += 1 \n",
    "    return merged"
   ]
  },
  {
   "cell_type": "markdown",
   "id": "passive-equality",
   "metadata": {},
   "source": [
    "`Сложность по времени:` $O(N)$"
   ]
  }
 ],
 "metadata": {
  "kernelspec": {
   "display_name": "Python 3",
   "language": "python",
   "name": "python3"
  },
  "language_info": {
   "codemirror_mode": {
    "name": "ipython",
    "version": 3
   },
   "file_extension": ".py",
   "mimetype": "text/x-python",
   "name": "python",
   "nbconvert_exporter": "python",
   "pygments_lexer": "ipython3",
   "version": "3.9.2"
  }
 },
 "nbformat": 4,
 "nbformat_minor": 5
}
