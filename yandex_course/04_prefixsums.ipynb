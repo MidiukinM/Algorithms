{
 "cells": [
  {
   "cell_type": "markdown",
   "id": "backed-trading",
   "metadata": {},
   "source": [
    "## Префиксные суммы\n",
    "\n",
    "Позволяют ответить на вопрос **\"Чему равна сумма элементов на полуинтервале $[L, R)$?\"**, где $L$ и $R$ принадлежат границам массива \n",
    "\n",
    "_Пример:_\n",
    "\n",
    "index $[0, 1, 2, 3, 4, 5, 6]$  \n",
    "nums  $[5, 3, 8, 1, 4, 6]$  \n",
    "prefix $[0, 5, 8, 16, 17, 21, 27]$\n",
    "\n",
    "Теперь из index можно брать любые L и R и получать ответ\n",
    "\n",
    "\n",
    "\n"
   ]
  },
  {
   "cell_type": "markdown",
   "id": "brilliant-conference",
   "metadata": {},
   "source": [
    "Такой массив из префиксных сумм можно построить за $O(N)$, так как необязательно каждый раз для каждого индекса считать все предыдущие индексы, достаточно посчитать предыдущую префиксную сумму и еще один индекс:  \n",
    "\n",
    "$prefix[i] = prefix[i-1] + nums[i-1]$\n",
    "\n",
    "Ответ на запрос суммы на полуинтервале (RSQ - range sum query) происходит за O(1):\n",
    "\n",
    "$sum(L, R) = prefixsum[R] - prefixsum[L]$\n",
    "\n"
   ]
  },
  {
   "cell_type": "code",
   "execution_count": 8,
   "id": "damaged-spring",
   "metadata": {},
   "outputs": [],
   "source": [
    "def makeprefixsum(nums):\n",
    "    prefixsum = [0] * (len(nums) + 1)\n",
    "    for i in range(1, len(nums)+1):\n",
    "        prefixsum[i] = prefixsum[i-1] + nums[i-1]\n",
    "    return prefixsum \n",
    "\n",
    "def rsq(prefixsum, l, r):\n",
    "    return prefixsum[r] - prefixsum[l]"
   ]
  },
  {
   "cell_type": "markdown",
   "id": "tutorial-stake",
   "metadata": {},
   "source": [
    "> Однако стоит помнить, что на питоне нет компилятора с оптимизацией, поэтому вызов функций довольно долгая штука, поэтому по возможности лучше не реализовывать rsq, а писать через разность (хоть это и не очень красиво)"
   ]
  },
  {
   "cell_type": "markdown",
   "id": "casual-motel",
   "metadata": {},
   "source": [
    "### Задача №1\n",
    "\n",
    "\n",
    "Дана последовательность чисел длиной $N$ и еще дано $M$ запросов. Запросы: \"Сколько нулей на полуинтервале $[L, R)$?\""
   ]
  },
  {
   "cell_type": "code",
   "execution_count": 11,
   "id": "synthetic-fence",
   "metadata": {},
   "outputs": [],
   "source": [
    "def makeprefixsum(nums):\n",
    "    prefixsum = [0] * (len(nums) + 1)\n",
    "    for i in range(1, len(nums)+1):\n",
    "        if nums[i-1] == 0:\n",
    "            prefixsum[i] = prefixsum[i-1] + 1\n",
    "        else:\n",
    "            prefixsum[i] = prefixsum[i-1]\n",
    "    return prefixsum \n",
    "\n",
    "def rsq(preixsum, l, r):\n",
    "    return prefixsum[r] - prefixsum[l]"
   ]
  },
  {
   "cell_type": "markdown",
   "id": "medium-caribbean",
   "metadata": {},
   "source": [
    "`Сложность по времени:` $O(N+M)$"
   ]
  },
  {
   "cell_type": "markdown",
   "id": "organized-penguin",
   "metadata": {},
   "source": [
    "### Задача №2\n",
    "\n",
    "\n",
    "Дана последовательность чисел длиной $N$. Необходимо найти кол-во отрезков с нулевой суммой. Например, есть динамика доходности акций и нужно посчитать кол-во отрезков, где мы не разорились и ничего не заработали"
   ]
  },
  {
   "cell_type": "markdown",
   "id": "static-boost",
   "metadata": {},
   "source": [
    "`Решение:` \n",
    "\n",
    "Кол-во отрезков с нулевой суммой - это кол-во отрезков в префиксных суммах, где значение префиксной суммы одно и то же (так как если значение не менялось, значит добавляли 0). Создадим словарь, где ключом является значение префиксной суммы, а значением - кол-во префиксных сумм. И потом посчитаем сколько можно составить пар из границ L и R на таком кол-ве одинаковых префиксных сумм. "
   ]
  },
  {
   "cell_type": "code",
   "execution_count": 14,
   "id": "characteristic-homeless",
   "metadata": {},
   "outputs": [],
   "source": [
    "def countprefixsum(nums):\n",
    "    d = {0: 1}\n",
    "    \n",
    "    prefixsum_cur = 0 \n",
    "    for num in nums:\n",
    "        prefixsum_cur += num\n",
    "        if prefixsum_cur not in d:\n",
    "            d[prefixsum_cur] = 0\n",
    "        d[prefixsum_cur] += 1 \n",
    "    \n",
    "    ans = 0\n",
    "    for key in d.keys():\n",
    "        n = d[key]\n",
    "        ans += n * (n-1) // 2\n",
    "        \n",
    "    return ans "
   ]
  },
  {
   "cell_type": "markdown",
   "id": "unusual-cable",
   "metadata": {},
   "source": [
    "`Сложность по времени:` $O(N)$"
   ]
  }
 ],
 "metadata": {
  "kernelspec": {
   "display_name": "Python 3",
   "language": "python",
   "name": "python3"
  },
  "language_info": {
   "codemirror_mode": {
    "name": "ipython",
    "version": 3
   },
   "file_extension": ".py",
   "mimetype": "text/x-python",
   "name": "python",
   "nbconvert_exporter": "python",
   "pygments_lexer": "ipython3",
   "version": "3.9.2"
  }
 },
 "nbformat": 4,
 "nbformat_minor": 5
}
