{
 "cells": [
  {
   "cell_type": "markdown",
   "id": "apparent-wireless",
   "metadata": {},
   "source": [
    "## Сортировка подсчетом\n",
    "\n",
    "Сортируем $N$ чисел, каждое из которых от $0$ до $K$. Если $K$ (кол-во возможных значений) небольшое, то можно использовать сортировку подсчетом. Для этого создаем массив длины $K$ и заполняем его нулями (для этого тратим $O(K)$ памяти и $O(K)$ времени, так как заполнение массива нулями тоже требует времени). Затем каждое число из $N$ - это индекс в получившемся массиве, а значение в массиве - это сколько раз число встретилось в исходной последовательности. Получая заполненный массив, можем пройтись по нему и выписать каждый индекс столько раз, сколько лежит в массиве (это еще $O(N)$ по времени). Итоговая сложность по времени $O(N+K)$ и $O(K)$ по памяти\n",
    "\n",
    "_Пример:_\n",
    "\n",
    "$[5,4,5,3,2,1,5] \\Rightarrow [0,1,1,1,1,3] \\Rightarrow [1,2,3,4,5,5,5]$ "
   ]
  },
  {
   "cell_type": "code",
   "execution_count": 1,
   "id": "united-complaint",
   "metadata": {},
   "outputs": [],
   "source": [
    "def countsort(seq):\n",
    "    minval = min(seq)\n",
    "    maxval = max(seq)\n",
    "    k = (maxval - minval + 1)\n",
    "    count = [0] * k \n",
    "    for now in seq:\n",
    "        count[now - minval] += 1 \n",
    "    nowpos = 0 \n",
    "    for val in range(0,k):\n",
    "        for i in range(count[val]):\n",
    "            seq[nowpos] = val + minval\n",
    "            nowpos += 1"
   ]
  },
  {
   "cell_type": "markdown",
   "id": "nasty-decade",
   "metadata": {},
   "source": [
    "### Задача №1\n",
    "\n",
    "Дано два числа $X$ и $Y$ без ведущих нулей. Необходимо проверить, можно ли получить первое из второго перестановкой цифр.  \n",
    "\n",
    "_Пример:_ \n",
    "$X = 123; Y = 321 \\Rightarrow True$\n",
    "\n",
    "`Решение:`\n",
    "\n",
    "Посчитаем кол-во вхождений каждой цифры в каждое из чисел и сравним"
   ]
  },
  {
   "cell_type": "code",
   "execution_count": null,
   "id": "removable-california",
   "metadata": {},
   "outputs": [],
   "source": [
    "def two_numbers(number1, number2):\n",
    "    def count_digits(number):\n",
    "        l = [0] * 10\n",
    "        while number > 0:\n",
    "            digit = number % 10\n",
    "            l[digit] += 1\n",
    "            number //= 10\n",
    "        return l\n",
    "    l1 = count_digits(number1)\n",
    "    l2 = count_digits(number2)\n",
    "    for digit in range(10):\n",
    "        if l1[digit] != l2[digit]:\n",
    "            return False\n",
    "    return True "
   ]
  },
  {
   "cell_type": "markdown",
   "id": "behavioral-andrew",
   "metadata": {},
   "source": [
    "`Сложность по времени:` $O(N)$  \n",
    "`Сложность по памяти:` $O(K)$  "
   ]
  },
  {
   "cell_type": "markdown",
   "id": "signal-academy",
   "metadata": {},
   "source": [
    "## Словари\n",
    "\n",
    "* Словарь он как множество, но к каждому ключу приписано значение\n",
    "* Поиск происходит по ключу, который должен быть неизменяемым объектом\n",
    "* Константа в сложности словарей заметно больше, чем у массивов, поэтому где можно (когда значений немного ($N$ мало) + числа с одним и тем же значением встречаются довольно часто ($N > K$)) - лучше использовать сортировку подсчетом. Константа в словарях больше, так как поиск по индексу в массиве быстрее, чем расширение словарей по хешам ключа и т.д.\n",
    "* Сортировку подсчетом неразумно использовать, если данные разреженные"
   ]
  },
  {
   "cell_type": "markdown",
   "id": "advance-adelaide",
   "metadata": {},
   "source": [
    "### Задача №2 \n",
    "\n",
    "На шахматной доске $N$ на $N$ находятся $M$ ладей (ладья бьет клетки на той же горизонтали или вертикали до ближайшей занятой). Определите сколько пар ладей бьют друг друга. Ладьи задаются прой чисел $I$ и $J$, обозначающих координаты клетки. $1 \\le N \\le 10^9$, $0 \\le M \\le 2\\cdot10^5$  \n",
    "\n",
    "`Решение:` \n",
    "\n",
    "Для каждой занятой горизонтали и вертикали будем хранить кол-во ладей на них. Кол-во пар в горизонтали (вертикали) равно кол-во ладей минус 1. Суммируем это кол-во пар для всех горизонталей и вертикалей. Список здесь будет очень разреженный и очень большой (так как $1 \\le N \\le 10^9$), а ладей самих не так много ($0 \\le M \\le 2\\cdot10^5$ ), поэтому воспользуемся словарем. "
   ]
  },
  {
   "cell_type": "code",
   "execution_count": 2,
   "id": "lovely-complex",
   "metadata": {},
   "outputs": [],
   "source": [
    "def count_pairs(coords):\n",
    "    def write_pairs_in_dict(d, value):\n",
    "        if value not in d:\n",
    "            d[value] = 0\n",
    "        else: \n",
    "            d[value] += 1\n",
    "    \n",
    "    def count_pairs_local(d):\n",
    "        pairs = 0\n",
    "        for key in d:\n",
    "            pairs += d[key]\n",
    "        return pairs\n",
    "            \n",
    "    d_row = {}\n",
    "    d_col = {}\n",
    "    \n",
    "    for col, row in coords:\n",
    "        write_pairs_in_dict(d_row, row)\n",
    "        write_pairs_in_dict(d_col, col)\n",
    "        \n",
    "    return count_pairs_local(d_row) + count_pairs_local(d_col)"
   ]
  },
  {
   "cell_type": "markdown",
   "id": "meaning-north",
   "metadata": {},
   "source": [
    "`Сложность по времени:` $O(N)$  "
   ]
  },
  {
   "cell_type": "markdown",
   "id": "square-inside",
   "metadata": {},
   "source": [
    "Если заменить ладьи на ферзи, то нужно добавить еще возможность пар на диагонали (row+col) и обратной диагонали (row-col)"
   ]
  },
  {
   "cell_type": "code",
   "execution_count": 3,
   "id": "removed-prague",
   "metadata": {},
   "outputs": [],
   "source": [
    "def count_pairs(coords):\n",
    "    def write_pairs_in_dict(d, value):\n",
    "        if value not in d:\n",
    "            d[value] = 0\n",
    "        else: \n",
    "            d[value] += 1\n",
    "    \n",
    "    def count_pairs_local(d):\n",
    "        pairs = 0\n",
    "        for key in d:\n",
    "            pairs += d[key]\n",
    "        return pairs\n",
    "            \n",
    "    d_row = {}\n",
    "    d_col = {}\n",
    "    d_diag = {}\n",
    "    d_rev_diag = {}\n",
    "    \n",
    "    for col, row in coords:\n",
    "        write_pairs_in_dict(d_row, row)\n",
    "        write_pairs_in_dict(d_col, col)\n",
    "        write_pairs_in_dict(d_diag, row+col)\n",
    "        write_pairs_in_dict(d_rev_diag, row-col)\n",
    "        \n",
    "    return count_pairs_local(d_row) + count_pairs_local(d_col) + \\\n",
    "            count_pairs_local(d_diag) + count_pairs_local(d_rev_diag)"
   ]
  },
  {
   "cell_type": "markdown",
   "id": "renewable-closer",
   "metadata": {},
   "source": [
    "`Сложность по времени:` $O(N)$  "
   ]
  },
  {
   "cell_type": "markdown",
   "id": "frequent-listening",
   "metadata": {},
   "source": [
    "### Задача №3\n",
    "\n",
    "Дана строка S, нужно вывести гистограмму символов в строке (символы отсортированы) "
   ]
  },
  {
   "cell_type": "code",
   "execution_count": 4,
   "id": "capable-centre",
   "metadata": {},
   "outputs": [],
   "source": [
    "def hist_of_string(s):\n",
    "    d = {}\n",
    "    max_count = 0\n",
    "\n",
    "    for symbol in s:\n",
    "        if symbol not in d:\n",
    "            d[symbol] = 0 \n",
    "        d[symbol] += 1 \n",
    "\n",
    "        if d[symbol] > max_count:\n",
    "            max_count = d[symbol]\n",
    "\n",
    "        ordered_symbols = sorted(d.keys())\n",
    "\n",
    "    for i in range(max_count, 0, -1):\n",
    "        for symb in ordered_symbols:\n",
    "            if d[symb] < i:\n",
    "                print(' ', end='')\n",
    "            else:\n",
    "                print('#', end='')\n",
    "        print()\n",
    "    print(''.join(ordered_symbols))"
   ]
  },
  {
   "cell_type": "code",
   "execution_count": 5,
   "id": "vanilla-turkey",
   "metadata": {},
   "outputs": [
    {
     "name": "stdout",
     "output_type": "stream",
     "text": [
      "      #   \n",
      "      ##  \n",
      "##########\n",
      " !,Hdelorw\n"
     ]
    }
   ],
   "source": [
    "hist_of_string('Hello, world!')"
   ]
  },
  {
   "cell_type": "markdown",
   "id": "authentic-length",
   "metadata": {},
   "source": [
    "`Сложность по времени:` $O(N)$  "
   ]
  },
  {
   "cell_type": "markdown",
   "id": "large-script",
   "metadata": {},
   "source": [
    "### Задача №4\n",
    "\n",
    "Сгруппировать слова по общим буквам. \n",
    "\n",
    "_Пример:_ \n",
    "\n",
    "$['eat', 'ate', 'tea', 'tan', 'nat', 'bat'] \\Rightarrow [['ate', 'eat', 'tea'], ['tan', 'nat'], ['bat']]$\n",
    "\n",
    "`Решение:`\n",
    "\n",
    "Можем отсортировать каждое слово посимвольно - это и будет ключом в словаре. А значением словаря - список из слов"
   ]
  },
  {
   "cell_type": "code",
   "execution_count": 6,
   "id": "adapted-checkout",
   "metadata": {},
   "outputs": [],
   "source": [
    "def groupwords(words):\n",
    "    d = {}\n",
    "    for word in words: \n",
    "        sorted_word = ''.join(sorted(word))\n",
    "        if sorted_word not in d:\n",
    "            d[sorted_word] = []\n",
    "        d[sorted_word].append(word)\n",
    "    \n",
    "    ans = []\n",
    "    for key in d:\n",
    "        ans.append(d[key])\n",
    "    \n",
    "    return ans "
   ]
  },
  {
   "cell_type": "code",
   "execution_count": 7,
   "id": "gothic-tissue",
   "metadata": {},
   "outputs": [
    {
     "data": {
      "text/plain": [
       "[['eat', 'ate', 'tea'], ['tan', 'nat'], ['bat']]"
      ]
     },
     "execution_count": 7,
     "metadata": {},
     "output_type": "execute_result"
    }
   ],
   "source": [
    "groupwords(['eat', 'ate', 'tea', 'tan', 'nat', 'bat'])"
   ]
  },
  {
   "cell_type": "markdown",
   "id": "infectious-italy",
   "metadata": {},
   "source": [
    "`Сложность по времени:` $O(N)$  "
   ]
  }
 ],
 "metadata": {
  "kernelspec": {
   "display_name": "Python 3",
   "language": "python",
   "name": "python3"
  },
  "language_info": {
   "codemirror_mode": {
    "name": "ipython",
    "version": 3
   },
   "file_extension": ".py",
   "mimetype": "text/x-python",
   "name": "python",
   "nbconvert_exporter": "python",
   "pygments_lexer": "ipython3",
   "version": "3.9.2"
  }
 },
 "nbformat": 4,
 "nbformat_minor": 5
}
