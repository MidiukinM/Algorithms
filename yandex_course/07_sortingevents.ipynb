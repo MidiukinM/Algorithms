{
 "cells": [
  {
   "cell_type": "markdown",
   "id": "automated-spare",
   "metadata": {},
   "source": [
    "## Сортировка событий\n",
    "\n",
    "* Пусть есть некоторые отрезки во времени (например, отрезок когда человек находился на сайте) \n",
    "* Что-то интересное происходит только в те моменты, когда человек приходит или уходит - события \n",
    "* Надо что-нибудь посчитать "
   ]
  },
  {
   "cell_type": "markdown",
   "id": "wound-garden",
   "metadata": {},
   "source": [
    "### Задача №1 \n",
    "\n",
    "Сайт посетило $N$ человек, для каждого известно время входа на сайт $In_i$ и время выхода с сайта $Out_i$. Считается, что человек был на сайте с момента $In_i$ по $Out_i$ включительно. Определите, какое максимальное кол-во человек было на сайте одновременно.  \n",
    "\n",
    "`Решение:`\n",
    "\n",
    "Каждое событие здесь - пара, в которое первое число время, а второе - тип события. Сначала будем сортировать по времени, а потом по типу, причем событие $In$ должно быть раньше $Out$."
   ]
  },
  {
   "cell_type": "code",
   "execution_count": null,
   "id": "vulnerable-jesus",
   "metadata": {},
   "outputs": [],
   "source": [
    "def maxvisitorsonline(n, tin, tout):\n",
    "    events = []\n",
    "    # идем по людям\n",
    "    for i in range(n):\n",
    "        # добавляем время + тип события (-1 - пришел, 1 - ушел)\n",
    "        events.append((tin[i], -1))\n",
    "        events.append((tout[i], 1))\n",
    "    # сортируем все события по времени\n",
    "    events.sort()\n",
    "    online = 0 \n",
    "    maxonline = 0\n",
    "    # идем по событиям и если чел пришел, то добавляем в кол-во людей онлайн одного\n",
    "    # если чел ушел, то удаляем его из счетчика кол-ва людей онлайн\n",
    "    for event in events:\n",
    "        if event[1] == -1:\n",
    "            online +=1 \n",
    "        else: \n",
    "            online -= 1\n",
    "        maxonline = max(online, maxonline)\n",
    "    return maxonline"
   ]
  },
  {
   "cell_type": "markdown",
   "id": "significant-louisville",
   "metadata": {},
   "source": [
    "`Сложность по времени:` $O(N + N\\log N)$  \n",
    "`Сложность по памяти:` $O(N)$"
   ]
  },
  {
   "cell_type": "markdown",
   "id": "quarterly-commodity",
   "metadata": {},
   "source": [
    "### Задача №2\n",
    "\n",
    "Сайт посетило $N$ человек, для каждого известно время входа на сайт $In_i$ и время выхода с сайта $Out_i$. Считается, что человек был на сайте с момента $In_i$ по $Out_i$ включительно. Определите, какое суммарное время на сайте был хотя бы один человек. \n",
    "\n",
    "`Решение:`\n",
    "\n",
    "Если мы пришли в событие с положительным счетчиком кол-ва людей, то между этим и предыдущим событием на сайте кто-то был. Прибавим к ответу время между текущим и предыдущим событием. "
   ]
  },
  {
   "cell_type": "code",
   "execution_count": 2,
   "id": "adjustable-taxation",
   "metadata": {},
   "outputs": [],
   "source": [
    "def timeonline(n, tin, tout):\n",
    "    events = []\n",
    "    # идем по людям\n",
    "    for i in range(n):\n",
    "        # добавляем время + тип события (-1 - пришел, 1 - ушел)\n",
    "        events.append((tin[i], -1))\n",
    "        events.append((tout[i], 1))\n",
    "    # сортируем все события по времени\n",
    "    events.sort()\n",
    "    online = 0 \n",
    "    time = 0\n",
    "    # теперь идем не по событиям, а по их индексам, чтобы узнать про предыдущее событие\n",
    "    for i in range(len(events)):\n",
    "        # если > 0 людей (перед тем как обработали текущее), то значит люди уже были\n",
    "        # поэтому считаем время между последним и предпоследним событием\n",
    "        if online > 0:\n",
    "            time += events[i][0] - events[i - 1][0]\n",
    "        # а теперь обрабатываем число людей \n",
    "        if events[i][1] == -1:\n",
    "            online += 1\n",
    "        else: \n",
    "            online -= 1\n",
    "    return time"
   ]
  },
  {
   "cell_type": "markdown",
   "id": "modern-macedonia",
   "metadata": {},
   "source": [
    "`Сложность по времени:` $O(N + N\\log N)$  \n",
    "`Сложность по памяти:` $O(N)$"
   ]
  },
  {
   "cell_type": "markdown",
   "id": "disturbed-clock",
   "metadata": {},
   "source": [
    "### Задача №3\n",
    "\n",
    "Сайт посетило $N$ человек, для каждого известно время входа на сайт $In_i$ и время выхода с сайта $Out_i$. Считается, что человек был на сайте с момента $In_i$ по $Out_i$ включительно. Теперь начальник заходил на саайт $M$ раз в моменты времени $Boss_i$ и смотрел, сколько людей сейчас онлайн. Посещения сайта начальником упорядочены по времени. Определите, какие показания счетчика людей онлайн увидел начальник. \n",
    "\n",
    "`Решение:`\n",
    "\n",
    "Создадим третий тип событий - вход начальника. При наступлении такого события будем сохранять текущее значение счетчика посетителей. "
   ]
  },
  {
   "cell_type": "code",
   "execution_count": null,
   "id": "closed-development",
   "metadata": {},
   "outputs": [],
   "source": [
    "def bosscounters(n, tin, tout, m, tboss):\n",
    "    events = []\n",
    "    # идем по людям\n",
    "    for i in range(n):\n",
    "        # добавляем время + тип события (-1 - пришел, 1 - ушел)\n",
    "        events.append((tin[i], -1))\n",
    "        events.append((tout[i], 1))\n",
    "    # добавляем еще m событий прихода начальника\n",
    "    for i in range(m):\n",
    "        events.append((tboss[i], 0))\n",
    "    # сортируем все события по времени\n",
    "    events.sort()\n",
    "    online = 0 \n",
    "    bossans = []\n",
    "    for i in range(len(events)):\n",
    "        if events[i][1] == -1:\n",
    "            online += 1\n",
    "        elif events[i][1] == 1: \n",
    "            online -= 1\n",
    "        else:\n",
    "            bossans.append(online)\n",
    "    return bossans"
   ]
  },
  {
   "cell_type": "markdown",
   "id": "equivalent-yorkshire",
   "metadata": {},
   "source": [
    "`Сложность по времени:` $O(N + M + (N+M)\\log(N+M))$  \n",
    "`Сложность по памяти:` $O(N+M)$"
   ]
  },
  {
   "cell_type": "markdown",
   "id": "other-palestine",
   "metadata": {},
   "source": [
    "## Два прохода"
   ]
  },
  {
   "cell_type": "markdown",
   "id": "statewide-estonia",
   "metadata": {},
   "source": [
    "### Задача №4 \n",
    "\n",
    ">На парковке в торговом центре $N$ мест. За день в ТЦ приезжало $M$ автомобилей, при этом некоторые из них длинные и занимали несколько подряд идущих парковочных мест. Для каждого автомобиля известно время приезда и отъезда, а также два числа - с какого по какое парковочные места он занимал. Если в какой-то момент времени один автомобиль уехал с парковочного места, то место считается освободившимся и в тот же момент времени на его место может встать другой. \n",
    "\n",
    "Необходимо определить, был ли момент, в который были заняты все парковочные места. \n",
    "\n",
    "`Решение:`\n",
    "\n",
    "События - приезд и отъезд автомобиля (причем отъезд должен происходить раньше). Пудем поддерживать кол-во занятых мест и если после очередного события счетчик равен $N$, то такие моменты были"
   ]
  },
  {
   "cell_type": "code",
   "execution_count": null,
   "id": "cathedral-apparatus",
   "metadata": {},
   "outputs": [],
   "source": [
    "def isparkingfull(cars, n):\n",
    "    events = []\n",
    "    for car in cars: \n",
    "        # машина это время приезда, отъезда и с какого по какое место было занято\n",
    "        timein, timeout, placefrom, placeto = car\n",
    "        # добавляем событие приезда и то какие места были заняты\n",
    "        events.append((timein, 1, placeto-placefrom + 1))\n",
    "        # добавляем событие отъезда и то какие места освободились\n",
    "        events.append((timeout, -1, placeto-placefrom + 1))\n",
    "    # сортируем события\n",
    "    events.sort()\n",
    "    occupied = 0 # сколько мест на парковке занято\n",
    "    for i in range(len(events)):\n",
    "        # если машина уехала, то места освобождаются\n",
    "        if events[i][1] == -1:\n",
    "            occupied -= events[i][2]\n",
    "        # если машина приехала то места занимаются\n",
    "        elif events[i][1] == 1:\n",
    "            occupied += events[i][2]\n",
    "        # если кол-во занятых мест == n, то парковка заполнена\n",
    "        if occupied == n:\n",
    "            return True\n",
    "    return False"
   ]
  },
  {
   "cell_type": "markdown",
   "id": "immediate-savannah",
   "metadata": {},
   "source": [
    "### Задача №5\n",
    "\n",
    ">На парковке в торговом центре $N$ мест. За день в ТЦ приезжало $M$ автомобилей, при этом некоторые из них длинные и занимали несколько подряд идущих парковочных мест. Для каждого автомобиля известно время приезда и отъезда, а также два числа - с какого по какое парковочные места он занимал. Если в какой-то момент времени один автомобиль уехал с парковочного места, то место считается освободившимся и в тот же момент времени на его место может встать другой. \n",
    "\n",
    "Необходимо определить, был ли момент, в который были заняты все парковочные места и определить минимальное кол-во автомобилей, которое заняло все места. Если такого момента не было - вернуть $M+1$\n",
    "\n",
    "`Решение:`\n",
    "\n",
    "Добавим еще один счетчик на кол-во автомобилей и будем обновлять минимальное кол-во автомобилей, когда заняты все места"
   ]
  },
  {
   "cell_type": "code",
   "execution_count": null,
   "id": "double-blair",
   "metadata": {},
   "outputs": [],
   "source": [
    "def mincarsonfullparking(cars, n):\n",
    "    events = []\n",
    "    for car in cars: \n",
    "        # машина это время приезда, отъезда и с какого по какое место было занято\n",
    "        timein, timeout, placefrom, placeto = car\n",
    "        # добавляем событие приезда и то какие места были заняты\n",
    "        events.append((timein, 1, placeto-placefrom + 1))\n",
    "        # добавляем событие отъезда и то какие места освободились\n",
    "        events.append((timeout, -1, placeto-placefrom + 1))\n",
    "    # сортируем события\n",
    "    events.sort()\n",
    "    occupied = 0 # сколько мест на парковке занято\n",
    "    nowcars = 0 # еще один счетчик, отвечающий за кол-во машин\n",
    "    mincars = len(cars) + 1 # минимальное число машин на парковке достигалось, чтоб забить ее полностью\n",
    "    for i in range(len(events)):\n",
    "        # если машина уехала, то места освобождаются\n",
    "        if events[i][1] == -1:\n",
    "            occupied -= events[i][2]\n",
    "            nowcars -= 1\n",
    "        # если машина приехала то места занимаются\n",
    "        elif events[i][1] == 1:\n",
    "            occupied += events[i][2]\n",
    "            nowcars += 1\n",
    "        # если кол-во занятых мест == n, то парковка заполнена\n",
    "        if occupied == n:\n",
    "            mincars = min(mincars, nowcars)\n",
    "    return mincars"
   ]
  },
  {
   "cell_type": "markdown",
   "id": "secret-acting",
   "metadata": {},
   "source": [
    "### Задача №6\n",
    "\n",
    ">На парковке в торговом центре $N$ мест. За день в ТЦ приезжало $M$ автомобилей, при этом некоторые из них длинные и занимали несколько подряд идущих парковочных мест. Для каждого автомобиля известно время приезда и отъезда, а также два числа - с какого по какое парковочные места он занимал. Если в какой-то момент времени один автомобиль уехал с парковочного места, то место считается освободившимся и в тот же момент времени на его место может встать другой. \n",
    "\n",
    "Необходимо определить, был ли момент, в который были заняты все парковочные места и определить минимальное кол-во автомобилей, которое заняло все места, а также номера этих автомобилей (в том порядке, как они перечисляются в списке). Если парковка никогда не была занята, то полностью вернуть пустой список\n",
    "\n",
    "`Решение:`\n",
    "\n",
    "Добавим в событие номер автомобиля в списке. При обновлении минимума просто копируем текущее состояние в ответ. Например, можно класть номера машин в множество либо в булевый список (где индекс - номер машины и True будет стоять, если машина с этим номером стоит). Множество лучше, если машины часто приезжают ненадолго, а список - если машины приезжают надолго. "
   ]
  },
  {
   "cell_type": "code",
   "execution_count": null,
   "id": "northern-poetry",
   "metadata": {},
   "outputs": [],
   "source": [
    "def mincarsonfullparking(cars, n):\n",
    "    events = []\n",
    "    # теперь уже бежим по номерам машин, чтоб сохранять это\n",
    "    for i in range(len(cars)): \n",
    "        # машина это время приезда, отъезда и с какого по какое место было занято\n",
    "        timein, timeout, placefrom, placeto = cars[i]\n",
    "        # добавляем событие приезда и то какие места были заняты + номер машины\n",
    "        events.append((timein, 1, placeto-placefrom + 1, i))\n",
    "        # добавляем событие отъезда и то какие места освободились + номер машины\n",
    "        events.append((timeout, -1, placeto-placefrom + 1, i))\n",
    "    # сортируем события\n",
    "    events.sort()\n",
    "    occupied = 0 # сколько мест на парковке занято\n",
    "    nowcars = 0 # еще один счетчик, отвечающий за кол-во машин на парковке\n",
    "    mincars = len(cars) + 1 # минимальное число машин на парковке достигалось, чтоб забить ее полностью\n",
    "    carnums = set() # номера текущих машин (через множество)\n",
    "    bestcarnums = set() # лучшие номера машин\n",
    "    for i in range(len(events)):\n",
    "        if events[i][1] == -1:\n",
    "            occupied -= events[i][2]\n",
    "            nowcars -= 1\n",
    "            carnums.remove(events[i][3])\n",
    "        # если машина приехала то места занимаются\n",
    "        elif events[i][1] == 1:\n",
    "            occupied += events[i][2]\n",
    "            nowcars += 1\n",
    "            carnums.add(events[i][3])\n",
    "        if occupied == n and nowcars < mincars:\n",
    "            bestcarnums = carnums.copy()\n",
    "            mincars = nowcars\n",
    "    return bestcarnums"
   ]
  },
  {
   "cell_type": "markdown",
   "id": "universal-anderson",
   "metadata": {},
   "source": [
    "Решение неэффективное из-за copy(). В среднем оно занимает M/2. Случится это может на каждые 3 события. То есть в итоге получаем $\\frac{2M}{3} \\cdot \\frac{M}{2} = O(M^2)$. Рассмотрим эффективное решение **через 2 прохода**:"
   ]
  },
  {
   "cell_type": "code",
   "execution_count": null,
   "id": "variable-contest",
   "metadata": {},
   "outputs": [],
   "source": [
    "def mincarsonfullparking(cars, n):\n",
    "    events = []\n",
    "    for i in range(len(cars)): \n",
    "        timein, timeout, placefrom, placeto = cars[i]\n",
    "        events.append((timein, 1, placeto-placefrom + 1, i))\n",
    "        events.append((timeout, -1, placeto-placefrom + 1, i))\n",
    "    events.sort()\n",
    "    occupied = 0\n",
    "    nowcars = 0\n",
    "    mincars = len(cars) + 1\n",
    "    # 1-ый проход: ищем минимальное число машин\n",
    "    for i in range(len(events)):\n",
    "        if events[i][1] == -1:\n",
    "            occupied -= events[i][2]\n",
    "            nowcars -= 1\n",
    "        elif events[i][1] == 1:\n",
    "            occupied += events[i][2]\n",
    "            nowcars += 1\n",
    "        if occupied == n and nowcars < mincars:\n",
    "            mincars = nowcars\n",
    "    # 2-ой проход: ищем номера, уже зная оптимальный минимум на число машин\n",
    "    carnums = set()\n",
    "    nowcars = 0 \n",
    "    for i in range(len(events)):\n",
    "        if events[i][1] == -1:\n",
    "            occupied -= events[i][2]\n",
    "            nowcars -= 1\n",
    "            carnums.remove(events[i][3])\n",
    "        elif events[i][1] == 1:\n",
    "            occupied += events[i][2]\n",
    "            nowcars += 1\n",
    "            carnums.add(events[i][3])\n",
    "        if occupied == n and nowcars < mincars:\n",
    "            return carnums\n",
    "    return set()"
   ]
  }
 ],
 "metadata": {
  "kernelspec": {
   "display_name": "Python 3",
   "language": "python",
   "name": "python3"
  },
  "language_info": {
   "codemirror_mode": {
    "name": "ipython",
    "version": 3
   },
   "file_extension": ".py",
   "mimetype": "text/x-python",
   "name": "python",
   "nbconvert_exporter": "python",
   "pygments_lexer": "ipython3",
   "version": "3.9.2"
  }
 },
 "nbformat": 4,
 "nbformat_minor": 5
}
